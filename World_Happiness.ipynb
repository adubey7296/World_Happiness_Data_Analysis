{
 "cells": [
  {
   "cell_type": "markdown",
   "metadata": {},
   "source": [
    "## The World Happiness Report Data Analysis:\n",
    "\n",
    "### A. Importing, cleaning and numerical summaries\n",
    "\n",
    "* Download the data set data.csv from the Kaggle.\n",
    "* Import the data as a pandas DataFrame.\n",
    "* Check the number of observations.\n",
    "* Obtain the column headings.\n",
    "* Check the data type for each column.\n",
    "* Check if there are any missing values.\n",
    "* If necessary remove any observations to ensure that there are no missing values and the values in each column are of the same data type.\n",
    "* Obtain the mean, minimum and maximum value for each column containing numerical data.\n",
    "* List the 10 happiest countries.\n",
    "* List the 10 least happy countries."
   ]
  },
  {
   "cell_type": "code",
   "execution_count": 1,
   "metadata": {},
   "outputs": [],
   "source": [
    "import pandas as pd\n",
    "import numpy as np\n",
    "import matplotlib.pyplot as plt\n",
    "import seaborn as sns\n",
    "%matplotlib inline"
   ]
  },
  {
   "cell_type": "code",
   "execution_count": 2,
   "metadata": {},
   "outputs": [],
   "source": [
    "whr = pd.read_csv(\"2016.csv\")"
   ]
  },
  {
   "cell_type": "code",
   "execution_count": 3,
   "metadata": {},
   "outputs": [
    {
     "data": {
      "text/html": [
       "<div>\n",
       "<style scoped>\n",
       "    .dataframe tbody tr th:only-of-type {\n",
       "        vertical-align: middle;\n",
       "    }\n",
       "\n",
       "    .dataframe tbody tr th {\n",
       "        vertical-align: top;\n",
       "    }\n",
       "\n",
       "    .dataframe thead th {\n",
       "        text-align: right;\n",
       "    }\n",
       "</style>\n",
       "<table border=\"1\" class=\"dataframe\">\n",
       "  <thead>\n",
       "    <tr style=\"text-align: right;\">\n",
       "      <th></th>\n",
       "      <th>Country</th>\n",
       "      <th>Region</th>\n",
       "      <th>Happiness Rank</th>\n",
       "      <th>Happiness Score</th>\n",
       "      <th>Lower Confidence Interval</th>\n",
       "      <th>Upper Confidence Interval</th>\n",
       "      <th>Economy (GDP per Capita)</th>\n",
       "      <th>Family</th>\n",
       "      <th>Health (Life Expectancy)</th>\n",
       "      <th>Freedom</th>\n",
       "      <th>Trust (Government Corruption)</th>\n",
       "      <th>Generosity</th>\n",
       "      <th>Dystopia Residual</th>\n",
       "    </tr>\n",
       "  </thead>\n",
       "  <tbody>\n",
       "    <tr>\n",
       "      <th>0</th>\n",
       "      <td>Denmark</td>\n",
       "      <td>Western Europe</td>\n",
       "      <td>1</td>\n",
       "      <td>7.526</td>\n",
       "      <td>7.460</td>\n",
       "      <td>7.592</td>\n",
       "      <td>1.44178</td>\n",
       "      <td>1.16374</td>\n",
       "      <td>0.79504</td>\n",
       "      <td>0.57941</td>\n",
       "      <td>0.44453</td>\n",
       "      <td>0.36171</td>\n",
       "      <td>2.73939</td>\n",
       "    </tr>\n",
       "    <tr>\n",
       "      <th>1</th>\n",
       "      <td>Switzerland</td>\n",
       "      <td>Western Europe</td>\n",
       "      <td>2</td>\n",
       "      <td>7.509</td>\n",
       "      <td>7.428</td>\n",
       "      <td>7.590</td>\n",
       "      <td>1.52733</td>\n",
       "      <td>1.14524</td>\n",
       "      <td>0.86303</td>\n",
       "      <td>0.58557</td>\n",
       "      <td>0.41203</td>\n",
       "      <td>0.28083</td>\n",
       "      <td>2.69463</td>\n",
       "    </tr>\n",
       "    <tr>\n",
       "      <th>2</th>\n",
       "      <td>Iceland</td>\n",
       "      <td>Western Europe</td>\n",
       "      <td>3</td>\n",
       "      <td>7.501</td>\n",
       "      <td>7.333</td>\n",
       "      <td>7.669</td>\n",
       "      <td>1.42666</td>\n",
       "      <td>1.18326</td>\n",
       "      <td>0.86733</td>\n",
       "      <td>0.56624</td>\n",
       "      <td>0.14975</td>\n",
       "      <td>0.47678</td>\n",
       "      <td>2.83137</td>\n",
       "    </tr>\n",
       "    <tr>\n",
       "      <th>3</th>\n",
       "      <td>Norway</td>\n",
       "      <td>Western Europe</td>\n",
       "      <td>4</td>\n",
       "      <td>7.498</td>\n",
       "      <td>7.421</td>\n",
       "      <td>7.575</td>\n",
       "      <td>1.57744</td>\n",
       "      <td>1.12690</td>\n",
       "      <td>0.79579</td>\n",
       "      <td>0.59609</td>\n",
       "      <td>0.35776</td>\n",
       "      <td>0.37895</td>\n",
       "      <td>2.66465</td>\n",
       "    </tr>\n",
       "    <tr>\n",
       "      <th>4</th>\n",
       "      <td>Finland</td>\n",
       "      <td>Western Europe</td>\n",
       "      <td>5</td>\n",
       "      <td>7.413</td>\n",
       "      <td>7.351</td>\n",
       "      <td>7.475</td>\n",
       "      <td>1.40598</td>\n",
       "      <td>1.13464</td>\n",
       "      <td>0.81091</td>\n",
       "      <td>0.57104</td>\n",
       "      <td>0.41004</td>\n",
       "      <td>0.25492</td>\n",
       "      <td>2.82596</td>\n",
       "    </tr>\n",
       "    <tr>\n",
       "      <th>5</th>\n",
       "      <td>Canada</td>\n",
       "      <td>North America</td>\n",
       "      <td>6</td>\n",
       "      <td>7.404</td>\n",
       "      <td>7.335</td>\n",
       "      <td>7.473</td>\n",
       "      <td>1.44015</td>\n",
       "      <td>1.09610</td>\n",
       "      <td>0.82760</td>\n",
       "      <td>0.57370</td>\n",
       "      <td>0.31329</td>\n",
       "      <td>0.44834</td>\n",
       "      <td>2.70485</td>\n",
       "    </tr>\n",
       "    <tr>\n",
       "      <th>6</th>\n",
       "      <td>Netherlands</td>\n",
       "      <td>Western Europe</td>\n",
       "      <td>7</td>\n",
       "      <td>7.339</td>\n",
       "      <td>7.284</td>\n",
       "      <td>7.394</td>\n",
       "      <td>1.46468</td>\n",
       "      <td>1.02912</td>\n",
       "      <td>0.81231</td>\n",
       "      <td>0.55211</td>\n",
       "      <td>0.29927</td>\n",
       "      <td>0.47416</td>\n",
       "      <td>2.70749</td>\n",
       "    </tr>\n",
       "    <tr>\n",
       "      <th>7</th>\n",
       "      <td>New Zealand</td>\n",
       "      <td>Australia and New Zealand</td>\n",
       "      <td>8</td>\n",
       "      <td>7.334</td>\n",
       "      <td>7.264</td>\n",
       "      <td>7.404</td>\n",
       "      <td>1.36066</td>\n",
       "      <td>1.17278</td>\n",
       "      <td>0.83096</td>\n",
       "      <td>0.58147</td>\n",
       "      <td>0.41904</td>\n",
       "      <td>0.49401</td>\n",
       "      <td>2.47553</td>\n",
       "    </tr>\n",
       "    <tr>\n",
       "      <th>8</th>\n",
       "      <td>Australia</td>\n",
       "      <td>Australia and New Zealand</td>\n",
       "      <td>9</td>\n",
       "      <td>7.313</td>\n",
       "      <td>7.241</td>\n",
       "      <td>7.385</td>\n",
       "      <td>1.44443</td>\n",
       "      <td>1.10476</td>\n",
       "      <td>0.85120</td>\n",
       "      <td>0.56837</td>\n",
       "      <td>0.32331</td>\n",
       "      <td>0.47407</td>\n",
       "      <td>2.54650</td>\n",
       "    </tr>\n",
       "    <tr>\n",
       "      <th>9</th>\n",
       "      <td>Sweden</td>\n",
       "      <td>Western Europe</td>\n",
       "      <td>10</td>\n",
       "      <td>7.291</td>\n",
       "      <td>7.227</td>\n",
       "      <td>7.355</td>\n",
       "      <td>1.45181</td>\n",
       "      <td>1.08764</td>\n",
       "      <td>0.83121</td>\n",
       "      <td>0.58218</td>\n",
       "      <td>0.40867</td>\n",
       "      <td>0.38254</td>\n",
       "      <td>2.54734</td>\n",
       "    </tr>\n",
       "    <tr>\n",
       "      <th>10</th>\n",
       "      <td>Israel</td>\n",
       "      <td>Middle East and Northern Africa</td>\n",
       "      <td>11</td>\n",
       "      <td>7.267</td>\n",
       "      <td>7.199</td>\n",
       "      <td>7.335</td>\n",
       "      <td>1.33766</td>\n",
       "      <td>0.99537</td>\n",
       "      <td>0.84917</td>\n",
       "      <td>0.36432</td>\n",
       "      <td>0.08728</td>\n",
       "      <td>0.32288</td>\n",
       "      <td>3.31029</td>\n",
       "    </tr>\n",
       "    <tr>\n",
       "      <th>11</th>\n",
       "      <td>Austria</td>\n",
       "      <td>Western Europe</td>\n",
       "      <td>12</td>\n",
       "      <td>7.119</td>\n",
       "      <td>7.045</td>\n",
       "      <td>7.193</td>\n",
       "      <td>1.45038</td>\n",
       "      <td>1.08383</td>\n",
       "      <td>0.80565</td>\n",
       "      <td>0.54355</td>\n",
       "      <td>0.21348</td>\n",
       "      <td>0.32865</td>\n",
       "      <td>2.69343</td>\n",
       "    </tr>\n",
       "  </tbody>\n",
       "</table>\n",
       "</div>"
      ],
      "text/plain": [
       "        Country                           Region  Happiness Rank  \\\n",
       "0       Denmark                   Western Europe               1   \n",
       "1   Switzerland                   Western Europe               2   \n",
       "2       Iceland                   Western Europe               3   \n",
       "3        Norway                   Western Europe               4   \n",
       "4       Finland                   Western Europe               5   \n",
       "5        Canada                    North America               6   \n",
       "6   Netherlands                   Western Europe               7   \n",
       "7   New Zealand        Australia and New Zealand               8   \n",
       "8     Australia        Australia and New Zealand               9   \n",
       "9        Sweden                   Western Europe              10   \n",
       "10       Israel  Middle East and Northern Africa              11   \n",
       "11      Austria                   Western Europe              12   \n",
       "\n",
       "    Happiness Score  Lower Confidence Interval  Upper Confidence Interval  \\\n",
       "0             7.526                      7.460                      7.592   \n",
       "1             7.509                      7.428                      7.590   \n",
       "2             7.501                      7.333                      7.669   \n",
       "3             7.498                      7.421                      7.575   \n",
       "4             7.413                      7.351                      7.475   \n",
       "5             7.404                      7.335                      7.473   \n",
       "6             7.339                      7.284                      7.394   \n",
       "7             7.334                      7.264                      7.404   \n",
       "8             7.313                      7.241                      7.385   \n",
       "9             7.291                      7.227                      7.355   \n",
       "10            7.267                      7.199                      7.335   \n",
       "11            7.119                      7.045                      7.193   \n",
       "\n",
       "    Economy (GDP per Capita)   Family  Health (Life Expectancy)  Freedom  \\\n",
       "0                    1.44178  1.16374                   0.79504  0.57941   \n",
       "1                    1.52733  1.14524                   0.86303  0.58557   \n",
       "2                    1.42666  1.18326                   0.86733  0.56624   \n",
       "3                    1.57744  1.12690                   0.79579  0.59609   \n",
       "4                    1.40598  1.13464                   0.81091  0.57104   \n",
       "5                    1.44015  1.09610                   0.82760  0.57370   \n",
       "6                    1.46468  1.02912                   0.81231  0.55211   \n",
       "7                    1.36066  1.17278                   0.83096  0.58147   \n",
       "8                    1.44443  1.10476                   0.85120  0.56837   \n",
       "9                    1.45181  1.08764                   0.83121  0.58218   \n",
       "10                   1.33766  0.99537                   0.84917  0.36432   \n",
       "11                   1.45038  1.08383                   0.80565  0.54355   \n",
       "\n",
       "    Trust (Government Corruption)  Generosity  Dystopia Residual  \n",
       "0                         0.44453     0.36171            2.73939  \n",
       "1                         0.41203     0.28083            2.69463  \n",
       "2                         0.14975     0.47678            2.83137  \n",
       "3                         0.35776     0.37895            2.66465  \n",
       "4                         0.41004     0.25492            2.82596  \n",
       "5                         0.31329     0.44834            2.70485  \n",
       "6                         0.29927     0.47416            2.70749  \n",
       "7                         0.41904     0.49401            2.47553  \n",
       "8                         0.32331     0.47407            2.54650  \n",
       "9                         0.40867     0.38254            2.54734  \n",
       "10                        0.08728     0.32288            3.31029  \n",
       "11                        0.21348     0.32865            2.69343  "
      ]
     },
     "execution_count": 3,
     "metadata": {},
     "output_type": "execute_result"
    }
   ],
   "source": [
    "whr.head(12)"
   ]
  },
  {
   "cell_type": "code",
   "execution_count": 4,
   "metadata": {},
   "outputs": [
    {
     "data": {
      "text/plain": [
       "(157, 13)"
      ]
     },
     "execution_count": 4,
     "metadata": {},
     "output_type": "execute_result"
    }
   ],
   "source": [
    "whr.shape"
   ]
  },
  {
   "cell_type": "code",
   "execution_count": 5,
   "metadata": {},
   "outputs": [
    {
     "name": "stdout",
     "output_type": "stream",
     "text": [
      "There are 157 rows and 13 columns in our data\n"
     ]
    }
   ],
   "source": [
    "print(\"There are {:,} rows \".format(whr.shape[0]) + \"and {} columns in our data\".format(whr.shape[1]))"
   ]
  },
  {
   "cell_type": "code",
   "execution_count": 6,
   "metadata": {},
   "outputs": [
    {
     "name": "stdout",
     "output_type": "stream",
     "text": [
      "<class 'pandas.core.frame.DataFrame'>\n",
      "Index: 157 entries, Denmark to Burundi\n",
      "Data columns (total 12 columns):\n",
      "Region                           157 non-null object\n",
      "Happiness Rank                   157 non-null int64\n",
      "Happiness Score                  157 non-null float64\n",
      "Lower Confidence Interval        157 non-null float64\n",
      "Upper Confidence Interval        157 non-null float64\n",
      "Economy (GDP per Capita)         157 non-null float64\n",
      "Family                           157 non-null float64\n",
      "Health (Life Expectancy)         157 non-null float64\n",
      "Freedom                          157 non-null float64\n",
      "Trust (Government Corruption)    157 non-null float64\n",
      "Generosity                       157 non-null float64\n",
      "Dystopia Residual                157 non-null float64\n",
      "dtypes: float64(10), int64(1), object(1)\n",
      "memory usage: 15.9+ KB\n"
     ]
    }
   ],
   "source": [
    "whr.set_index('Country', inplace=True)\n",
    "\n",
    "whr.info()"
   ]
  },
  {
   "cell_type": "code",
   "execution_count": 7,
   "metadata": {},
   "outputs": [
    {
     "data": {
      "text/plain": [
       "Region                           0\n",
       "Happiness Rank                   0\n",
       "Happiness Score                  0\n",
       "Lower Confidence Interval        0\n",
       "Upper Confidence Interval        0\n",
       "Economy (GDP per Capita)         0\n",
       "Family                           0\n",
       "Health (Life Expectancy)         0\n",
       "Freedom                          0\n",
       "Trust (Government Corruption)    0\n",
       "Generosity                       0\n",
       "Dystopia Residual                0\n",
       "dtype: int64"
      ]
     },
     "execution_count": 7,
     "metadata": {},
     "output_type": "execute_result"
    }
   ],
   "source": [
    "whr.isnull().sum()"
   ]
  },
  {
   "cell_type": "code",
   "execution_count": 8,
   "metadata": {},
   "outputs": [],
   "source": [
    "NULLS = whr[whr.isnull().any(axis=1)]"
   ]
  },
  {
   "cell_type": "code",
   "execution_count": 9,
   "metadata": {},
   "outputs": [
    {
     "data": {
      "text/plain": [
       "Region                           0\n",
       "Happiness Rank                   0\n",
       "Happiness Score                  0\n",
       "Lower Confidence Interval        0\n",
       "Upper Confidence Interval        0\n",
       "Economy (GDP per Capita)         0\n",
       "Family                           0\n",
       "Health (Life Expectancy)         0\n",
       "Freedom                          0\n",
       "Trust (Government Corruption)    0\n",
       "Generosity                       0\n",
       "Dystopia Residual                0\n",
       "dtype: int64"
      ]
     },
     "execution_count": 9,
     "metadata": {},
     "output_type": "execute_result"
    }
   ],
   "source": [
    "whr.dropna(inplace=True)\n",
    "\n",
    "whr.isnull().sum()"
   ]
  },
  {
   "cell_type": "code",
   "execution_count": 10,
   "metadata": {},
   "outputs": [
    {
     "data": {
      "text/plain": [
       "0"
      ]
     },
     "execution_count": 10,
     "metadata": {},
     "output_type": "execute_result"
    }
   ],
   "source": [
    "whr.duplicated().sum()"
   ]
  },
  {
   "cell_type": "code",
   "execution_count": 11,
   "metadata": {},
   "outputs": [
    {
     "data": {
      "text/html": [
       "<div>\n",
       "<style scoped>\n",
       "    .dataframe tbody tr th:only-of-type {\n",
       "        vertical-align: middle;\n",
       "    }\n",
       "\n",
       "    .dataframe tbody tr th {\n",
       "        vertical-align: top;\n",
       "    }\n",
       "\n",
       "    .dataframe thead th {\n",
       "        text-align: right;\n",
       "    }\n",
       "</style>\n",
       "<table border=\"1\" class=\"dataframe\">\n",
       "  <thead>\n",
       "    <tr style=\"text-align: right;\">\n",
       "      <th></th>\n",
       "      <th>Happiness Rank</th>\n",
       "      <th>Happiness Score</th>\n",
       "      <th>Lower Confidence Interval</th>\n",
       "      <th>Upper Confidence Interval</th>\n",
       "      <th>Economy (GDP per Capita)</th>\n",
       "      <th>Family</th>\n",
       "      <th>Health (Life Expectancy)</th>\n",
       "      <th>Freedom</th>\n",
       "      <th>Trust (Government Corruption)</th>\n",
       "      <th>Generosity</th>\n",
       "      <th>Dystopia Residual</th>\n",
       "    </tr>\n",
       "  </thead>\n",
       "  <tbody>\n",
       "    <tr>\n",
       "      <th>count</th>\n",
       "      <td>157.000000</td>\n",
       "      <td>157.000000</td>\n",
       "      <td>157.000000</td>\n",
       "      <td>157.000000</td>\n",
       "      <td>157.000000</td>\n",
       "      <td>157.000000</td>\n",
       "      <td>157.000000</td>\n",
       "      <td>157.000000</td>\n",
       "      <td>157.000000</td>\n",
       "      <td>157.000000</td>\n",
       "      <td>157.000000</td>\n",
       "    </tr>\n",
       "    <tr>\n",
       "      <th>mean</th>\n",
       "      <td>78.980892</td>\n",
       "      <td>5.382185</td>\n",
       "      <td>5.282395</td>\n",
       "      <td>5.481975</td>\n",
       "      <td>0.953880</td>\n",
       "      <td>0.793621</td>\n",
       "      <td>0.557619</td>\n",
       "      <td>0.370994</td>\n",
       "      <td>0.137624</td>\n",
       "      <td>0.242635</td>\n",
       "      <td>2.325807</td>\n",
       "    </tr>\n",
       "    <tr>\n",
       "      <th>std</th>\n",
       "      <td>45.466030</td>\n",
       "      <td>1.141674</td>\n",
       "      <td>1.148043</td>\n",
       "      <td>1.136493</td>\n",
       "      <td>0.412595</td>\n",
       "      <td>0.266706</td>\n",
       "      <td>0.229349</td>\n",
       "      <td>0.145507</td>\n",
       "      <td>0.111038</td>\n",
       "      <td>0.133756</td>\n",
       "      <td>0.542220</td>\n",
       "    </tr>\n",
       "    <tr>\n",
       "      <th>min</th>\n",
       "      <td>1.000000</td>\n",
       "      <td>2.905000</td>\n",
       "      <td>2.732000</td>\n",
       "      <td>3.078000</td>\n",
       "      <td>0.000000</td>\n",
       "      <td>0.000000</td>\n",
       "      <td>0.000000</td>\n",
       "      <td>0.000000</td>\n",
       "      <td>0.000000</td>\n",
       "      <td>0.000000</td>\n",
       "      <td>0.817890</td>\n",
       "    </tr>\n",
       "    <tr>\n",
       "      <th>25%</th>\n",
       "      <td>40.000000</td>\n",
       "      <td>4.404000</td>\n",
       "      <td>4.327000</td>\n",
       "      <td>4.465000</td>\n",
       "      <td>0.670240</td>\n",
       "      <td>0.641840</td>\n",
       "      <td>0.382910</td>\n",
       "      <td>0.257480</td>\n",
       "      <td>0.061260</td>\n",
       "      <td>0.154570</td>\n",
       "      <td>2.031710</td>\n",
       "    </tr>\n",
       "    <tr>\n",
       "      <th>50%</th>\n",
       "      <td>79.000000</td>\n",
       "      <td>5.314000</td>\n",
       "      <td>5.237000</td>\n",
       "      <td>5.419000</td>\n",
       "      <td>1.027800</td>\n",
       "      <td>0.841420</td>\n",
       "      <td>0.596590</td>\n",
       "      <td>0.397470</td>\n",
       "      <td>0.105470</td>\n",
       "      <td>0.222450</td>\n",
       "      <td>2.290740</td>\n",
       "    </tr>\n",
       "    <tr>\n",
       "      <th>75%</th>\n",
       "      <td>118.000000</td>\n",
       "      <td>6.269000</td>\n",
       "      <td>6.154000</td>\n",
       "      <td>6.434000</td>\n",
       "      <td>1.279640</td>\n",
       "      <td>1.021520</td>\n",
       "      <td>0.729930</td>\n",
       "      <td>0.484530</td>\n",
       "      <td>0.175540</td>\n",
       "      <td>0.311850</td>\n",
       "      <td>2.664650</td>\n",
       "    </tr>\n",
       "    <tr>\n",
       "      <th>max</th>\n",
       "      <td>157.000000</td>\n",
       "      <td>7.526000</td>\n",
       "      <td>7.460000</td>\n",
       "      <td>7.669000</td>\n",
       "      <td>1.824270</td>\n",
       "      <td>1.183260</td>\n",
       "      <td>0.952770</td>\n",
       "      <td>0.608480</td>\n",
       "      <td>0.505210</td>\n",
       "      <td>0.819710</td>\n",
       "      <td>3.837720</td>\n",
       "    </tr>\n",
       "  </tbody>\n",
       "</table>\n",
       "</div>"
      ],
      "text/plain": [
       "       Happiness Rank  Happiness Score  Lower Confidence Interval  \\\n",
       "count      157.000000       157.000000                 157.000000   \n",
       "mean        78.980892         5.382185                   5.282395   \n",
       "std         45.466030         1.141674                   1.148043   \n",
       "min          1.000000         2.905000                   2.732000   \n",
       "25%         40.000000         4.404000                   4.327000   \n",
       "50%         79.000000         5.314000                   5.237000   \n",
       "75%        118.000000         6.269000                   6.154000   \n",
       "max        157.000000         7.526000                   7.460000   \n",
       "\n",
       "       Upper Confidence Interval  Economy (GDP per Capita)      Family  \\\n",
       "count                 157.000000                157.000000  157.000000   \n",
       "mean                    5.481975                  0.953880    0.793621   \n",
       "std                     1.136493                  0.412595    0.266706   \n",
       "min                     3.078000                  0.000000    0.000000   \n",
       "25%                     4.465000                  0.670240    0.641840   \n",
       "50%                     5.419000                  1.027800    0.841420   \n",
       "75%                     6.434000                  1.279640    1.021520   \n",
       "max                     7.669000                  1.824270    1.183260   \n",
       "\n",
       "       Health (Life Expectancy)     Freedom  Trust (Government Corruption)  \\\n",
       "count                157.000000  157.000000                     157.000000   \n",
       "mean                   0.557619    0.370994                       0.137624   \n",
       "std                    0.229349    0.145507                       0.111038   \n",
       "min                    0.000000    0.000000                       0.000000   \n",
       "25%                    0.382910    0.257480                       0.061260   \n",
       "50%                    0.596590    0.397470                       0.105470   \n",
       "75%                    0.729930    0.484530                       0.175540   \n",
       "max                    0.952770    0.608480                       0.505210   \n",
       "\n",
       "       Generosity  Dystopia Residual  \n",
       "count  157.000000         157.000000  \n",
       "mean     0.242635           2.325807  \n",
       "std      0.133756           0.542220  \n",
       "min      0.000000           0.817890  \n",
       "25%      0.154570           2.031710  \n",
       "50%      0.222450           2.290740  \n",
       "75%      0.311850           2.664650  \n",
       "max      0.819710           3.837720  "
      ]
     },
     "execution_count": 11,
     "metadata": {},
     "output_type": "execute_result"
    }
   ],
   "source": [
    "whr.describe()"
   ]
  },
  {
   "cell_type": "code",
   "execution_count": 12,
   "metadata": {},
   "outputs": [
    {
     "data": {
      "text/html": [
       "<div>\n",
       "<style scoped>\n",
       "    .dataframe tbody tr th:only-of-type {\n",
       "        vertical-align: middle;\n",
       "    }\n",
       "\n",
       "    .dataframe tbody tr th {\n",
       "        vertical-align: top;\n",
       "    }\n",
       "\n",
       "    .dataframe thead th {\n",
       "        text-align: right;\n",
       "    }\n",
       "</style>\n",
       "<table border=\"1\" class=\"dataframe\">\n",
       "  <thead>\n",
       "    <tr style=\"text-align: right;\">\n",
       "      <th></th>\n",
       "      <th>Region</th>\n",
       "      <th>Happiness Rank</th>\n",
       "      <th>Happiness Score</th>\n",
       "      <th>Lower Confidence Interval</th>\n",
       "      <th>Upper Confidence Interval</th>\n",
       "      <th>Economy (GDP per Capita)</th>\n",
       "      <th>Family</th>\n",
       "      <th>Health (Life Expectancy)</th>\n",
       "      <th>Freedom</th>\n",
       "      <th>Trust (Government Corruption)</th>\n",
       "      <th>Generosity</th>\n",
       "      <th>Dystopia Residual</th>\n",
       "    </tr>\n",
       "    <tr>\n",
       "      <th>Country</th>\n",
       "      <th></th>\n",
       "      <th></th>\n",
       "      <th></th>\n",
       "      <th></th>\n",
       "      <th></th>\n",
       "      <th></th>\n",
       "      <th></th>\n",
       "      <th></th>\n",
       "      <th></th>\n",
       "      <th></th>\n",
       "      <th></th>\n",
       "      <th></th>\n",
       "    </tr>\n",
       "  </thead>\n",
       "  <tbody>\n",
       "    <tr>\n",
       "      <th>Denmark</th>\n",
       "      <td>Western Europe</td>\n",
       "      <td>1</td>\n",
       "      <td>7.526</td>\n",
       "      <td>7.460</td>\n",
       "      <td>7.592</td>\n",
       "      <td>1.44178</td>\n",
       "      <td>1.16374</td>\n",
       "      <td>0.79504</td>\n",
       "      <td>0.57941</td>\n",
       "      <td>0.44453</td>\n",
       "      <td>0.36171</td>\n",
       "      <td>2.73939</td>\n",
       "    </tr>\n",
       "    <tr>\n",
       "      <th>Switzerland</th>\n",
       "      <td>Western Europe</td>\n",
       "      <td>2</td>\n",
       "      <td>7.509</td>\n",
       "      <td>7.428</td>\n",
       "      <td>7.590</td>\n",
       "      <td>1.52733</td>\n",
       "      <td>1.14524</td>\n",
       "      <td>0.86303</td>\n",
       "      <td>0.58557</td>\n",
       "      <td>0.41203</td>\n",
       "      <td>0.28083</td>\n",
       "      <td>2.69463</td>\n",
       "    </tr>\n",
       "    <tr>\n",
       "      <th>Iceland</th>\n",
       "      <td>Western Europe</td>\n",
       "      <td>3</td>\n",
       "      <td>7.501</td>\n",
       "      <td>7.333</td>\n",
       "      <td>7.669</td>\n",
       "      <td>1.42666</td>\n",
       "      <td>1.18326</td>\n",
       "      <td>0.86733</td>\n",
       "      <td>0.56624</td>\n",
       "      <td>0.14975</td>\n",
       "      <td>0.47678</td>\n",
       "      <td>2.83137</td>\n",
       "    </tr>\n",
       "    <tr>\n",
       "      <th>Norway</th>\n",
       "      <td>Western Europe</td>\n",
       "      <td>4</td>\n",
       "      <td>7.498</td>\n",
       "      <td>7.421</td>\n",
       "      <td>7.575</td>\n",
       "      <td>1.57744</td>\n",
       "      <td>1.12690</td>\n",
       "      <td>0.79579</td>\n",
       "      <td>0.59609</td>\n",
       "      <td>0.35776</td>\n",
       "      <td>0.37895</td>\n",
       "      <td>2.66465</td>\n",
       "    </tr>\n",
       "    <tr>\n",
       "      <th>Finland</th>\n",
       "      <td>Western Europe</td>\n",
       "      <td>5</td>\n",
       "      <td>7.413</td>\n",
       "      <td>7.351</td>\n",
       "      <td>7.475</td>\n",
       "      <td>1.40598</td>\n",
       "      <td>1.13464</td>\n",
       "      <td>0.81091</td>\n",
       "      <td>0.57104</td>\n",
       "      <td>0.41004</td>\n",
       "      <td>0.25492</td>\n",
       "      <td>2.82596</td>\n",
       "    </tr>\n",
       "    <tr>\n",
       "      <th>Canada</th>\n",
       "      <td>North America</td>\n",
       "      <td>6</td>\n",
       "      <td>7.404</td>\n",
       "      <td>7.335</td>\n",
       "      <td>7.473</td>\n",
       "      <td>1.44015</td>\n",
       "      <td>1.09610</td>\n",
       "      <td>0.82760</td>\n",
       "      <td>0.57370</td>\n",
       "      <td>0.31329</td>\n",
       "      <td>0.44834</td>\n",
       "      <td>2.70485</td>\n",
       "    </tr>\n",
       "    <tr>\n",
       "      <th>Netherlands</th>\n",
       "      <td>Western Europe</td>\n",
       "      <td>7</td>\n",
       "      <td>7.339</td>\n",
       "      <td>7.284</td>\n",
       "      <td>7.394</td>\n",
       "      <td>1.46468</td>\n",
       "      <td>1.02912</td>\n",
       "      <td>0.81231</td>\n",
       "      <td>0.55211</td>\n",
       "      <td>0.29927</td>\n",
       "      <td>0.47416</td>\n",
       "      <td>2.70749</td>\n",
       "    </tr>\n",
       "    <tr>\n",
       "      <th>New Zealand</th>\n",
       "      <td>Australia and New Zealand</td>\n",
       "      <td>8</td>\n",
       "      <td>7.334</td>\n",
       "      <td>7.264</td>\n",
       "      <td>7.404</td>\n",
       "      <td>1.36066</td>\n",
       "      <td>1.17278</td>\n",
       "      <td>0.83096</td>\n",
       "      <td>0.58147</td>\n",
       "      <td>0.41904</td>\n",
       "      <td>0.49401</td>\n",
       "      <td>2.47553</td>\n",
       "    </tr>\n",
       "    <tr>\n",
       "      <th>Australia</th>\n",
       "      <td>Australia and New Zealand</td>\n",
       "      <td>9</td>\n",
       "      <td>7.313</td>\n",
       "      <td>7.241</td>\n",
       "      <td>7.385</td>\n",
       "      <td>1.44443</td>\n",
       "      <td>1.10476</td>\n",
       "      <td>0.85120</td>\n",
       "      <td>0.56837</td>\n",
       "      <td>0.32331</td>\n",
       "      <td>0.47407</td>\n",
       "      <td>2.54650</td>\n",
       "    </tr>\n",
       "    <tr>\n",
       "      <th>Sweden</th>\n",
       "      <td>Western Europe</td>\n",
       "      <td>10</td>\n",
       "      <td>7.291</td>\n",
       "      <td>7.227</td>\n",
       "      <td>7.355</td>\n",
       "      <td>1.45181</td>\n",
       "      <td>1.08764</td>\n",
       "      <td>0.83121</td>\n",
       "      <td>0.58218</td>\n",
       "      <td>0.40867</td>\n",
       "      <td>0.38254</td>\n",
       "      <td>2.54734</td>\n",
       "    </tr>\n",
       "  </tbody>\n",
       "</table>\n",
       "</div>"
      ],
      "text/plain": [
       "                                Region  Happiness Rank  Happiness Score  \\\n",
       "Country                                                                   \n",
       "Denmark                 Western Europe               1            7.526   \n",
       "Switzerland             Western Europe               2            7.509   \n",
       "Iceland                 Western Europe               3            7.501   \n",
       "Norway                  Western Europe               4            7.498   \n",
       "Finland                 Western Europe               5            7.413   \n",
       "Canada                   North America               6            7.404   \n",
       "Netherlands             Western Europe               7            7.339   \n",
       "New Zealand  Australia and New Zealand               8            7.334   \n",
       "Australia    Australia and New Zealand               9            7.313   \n",
       "Sweden                  Western Europe              10            7.291   \n",
       "\n",
       "             Lower Confidence Interval  Upper Confidence Interval  \\\n",
       "Country                                                             \n",
       "Denmark                          7.460                      7.592   \n",
       "Switzerland                      7.428                      7.590   \n",
       "Iceland                          7.333                      7.669   \n",
       "Norway                           7.421                      7.575   \n",
       "Finland                          7.351                      7.475   \n",
       "Canada                           7.335                      7.473   \n",
       "Netherlands                      7.284                      7.394   \n",
       "New Zealand                      7.264                      7.404   \n",
       "Australia                        7.241                      7.385   \n",
       "Sweden                           7.227                      7.355   \n",
       "\n",
       "             Economy (GDP per Capita)   Family  Health (Life Expectancy)  \\\n",
       "Country                                                                    \n",
       "Denmark                       1.44178  1.16374                   0.79504   \n",
       "Switzerland                   1.52733  1.14524                   0.86303   \n",
       "Iceland                       1.42666  1.18326                   0.86733   \n",
       "Norway                        1.57744  1.12690                   0.79579   \n",
       "Finland                       1.40598  1.13464                   0.81091   \n",
       "Canada                        1.44015  1.09610                   0.82760   \n",
       "Netherlands                   1.46468  1.02912                   0.81231   \n",
       "New Zealand                   1.36066  1.17278                   0.83096   \n",
       "Australia                     1.44443  1.10476                   0.85120   \n",
       "Sweden                        1.45181  1.08764                   0.83121   \n",
       "\n",
       "             Freedom  Trust (Government Corruption)  Generosity  \\\n",
       "Country                                                           \n",
       "Denmark      0.57941                        0.44453     0.36171   \n",
       "Switzerland  0.58557                        0.41203     0.28083   \n",
       "Iceland      0.56624                        0.14975     0.47678   \n",
       "Norway       0.59609                        0.35776     0.37895   \n",
       "Finland      0.57104                        0.41004     0.25492   \n",
       "Canada       0.57370                        0.31329     0.44834   \n",
       "Netherlands  0.55211                        0.29927     0.47416   \n",
       "New Zealand  0.58147                        0.41904     0.49401   \n",
       "Australia    0.56837                        0.32331     0.47407   \n",
       "Sweden       0.58218                        0.40867     0.38254   \n",
       "\n",
       "             Dystopia Residual  \n",
       "Country                         \n",
       "Denmark                2.73939  \n",
       "Switzerland            2.69463  \n",
       "Iceland                2.83137  \n",
       "Norway                 2.66465  \n",
       "Finland                2.82596  \n",
       "Canada                 2.70485  \n",
       "Netherlands            2.70749  \n",
       "New Zealand            2.47553  \n",
       "Australia              2.54650  \n",
       "Sweden                 2.54734  "
      ]
     },
     "execution_count": 12,
     "metadata": {},
     "output_type": "execute_result"
    }
   ],
   "source": [
    "whr.sort_values(by=\"Happiness Rank\", ascending=True).head(10)"
   ]
  },
  {
   "cell_type": "code",
   "execution_count": 13,
   "metadata": {},
   "outputs": [
    {
     "data": {
      "text/html": [
       "<div>\n",
       "<style scoped>\n",
       "    .dataframe tbody tr th:only-of-type {\n",
       "        vertical-align: middle;\n",
       "    }\n",
       "\n",
       "    .dataframe tbody tr th {\n",
       "        vertical-align: top;\n",
       "    }\n",
       "\n",
       "    .dataframe thead th {\n",
       "        text-align: right;\n",
       "    }\n",
       "</style>\n",
       "<table border=\"1\" class=\"dataframe\">\n",
       "  <thead>\n",
       "    <tr style=\"text-align: right;\">\n",
       "      <th></th>\n",
       "      <th>Region</th>\n",
       "      <th>Happiness Rank</th>\n",
       "      <th>Happiness Score</th>\n",
       "      <th>Lower Confidence Interval</th>\n",
       "      <th>Upper Confidence Interval</th>\n",
       "      <th>Economy (GDP per Capita)</th>\n",
       "      <th>Family</th>\n",
       "      <th>Health (Life Expectancy)</th>\n",
       "      <th>Freedom</th>\n",
       "      <th>Trust (Government Corruption)</th>\n",
       "      <th>Generosity</th>\n",
       "      <th>Dystopia Residual</th>\n",
       "    </tr>\n",
       "    <tr>\n",
       "      <th>Country</th>\n",
       "      <th></th>\n",
       "      <th></th>\n",
       "      <th></th>\n",
       "      <th></th>\n",
       "      <th></th>\n",
       "      <th></th>\n",
       "      <th></th>\n",
       "      <th></th>\n",
       "      <th></th>\n",
       "      <th></th>\n",
       "      <th></th>\n",
       "      <th></th>\n",
       "    </tr>\n",
       "  </thead>\n",
       "  <tbody>\n",
       "    <tr>\n",
       "      <th>Burundi</th>\n",
       "      <td>Sub-Saharan Africa</td>\n",
       "      <td>157</td>\n",
       "      <td>2.905</td>\n",
       "      <td>2.732</td>\n",
       "      <td>3.078</td>\n",
       "      <td>0.06831</td>\n",
       "      <td>0.23442</td>\n",
       "      <td>0.15747</td>\n",
       "      <td>0.04320</td>\n",
       "      <td>0.09419</td>\n",
       "      <td>0.20290</td>\n",
       "      <td>2.10404</td>\n",
       "    </tr>\n",
       "    <tr>\n",
       "      <th>Syria</th>\n",
       "      <td>Middle East and Northern Africa</td>\n",
       "      <td>156</td>\n",
       "      <td>3.069</td>\n",
       "      <td>2.936</td>\n",
       "      <td>3.202</td>\n",
       "      <td>0.74719</td>\n",
       "      <td>0.14866</td>\n",
       "      <td>0.62994</td>\n",
       "      <td>0.06912</td>\n",
       "      <td>0.17233</td>\n",
       "      <td>0.48397</td>\n",
       "      <td>0.81789</td>\n",
       "    </tr>\n",
       "    <tr>\n",
       "      <th>Togo</th>\n",
       "      <td>Sub-Saharan Africa</td>\n",
       "      <td>155</td>\n",
       "      <td>3.303</td>\n",
       "      <td>3.192</td>\n",
       "      <td>3.414</td>\n",
       "      <td>0.28123</td>\n",
       "      <td>0.00000</td>\n",
       "      <td>0.24811</td>\n",
       "      <td>0.34678</td>\n",
       "      <td>0.11587</td>\n",
       "      <td>0.17517</td>\n",
       "      <td>2.13540</td>\n",
       "    </tr>\n",
       "    <tr>\n",
       "      <th>Afghanistan</th>\n",
       "      <td>Southern Asia</td>\n",
       "      <td>154</td>\n",
       "      <td>3.360</td>\n",
       "      <td>3.288</td>\n",
       "      <td>3.432</td>\n",
       "      <td>0.38227</td>\n",
       "      <td>0.11037</td>\n",
       "      <td>0.17344</td>\n",
       "      <td>0.16430</td>\n",
       "      <td>0.07112</td>\n",
       "      <td>0.31268</td>\n",
       "      <td>2.14558</td>\n",
       "    </tr>\n",
       "    <tr>\n",
       "      <th>Benin</th>\n",
       "      <td>Sub-Saharan Africa</td>\n",
       "      <td>153</td>\n",
       "      <td>3.484</td>\n",
       "      <td>3.404</td>\n",
       "      <td>3.564</td>\n",
       "      <td>0.39499</td>\n",
       "      <td>0.10419</td>\n",
       "      <td>0.21028</td>\n",
       "      <td>0.39747</td>\n",
       "      <td>0.06681</td>\n",
       "      <td>0.20180</td>\n",
       "      <td>2.10812</td>\n",
       "    </tr>\n",
       "    <tr>\n",
       "      <th>Rwanda</th>\n",
       "      <td>Sub-Saharan Africa</td>\n",
       "      <td>152</td>\n",
       "      <td>3.515</td>\n",
       "      <td>3.444</td>\n",
       "      <td>3.586</td>\n",
       "      <td>0.32846</td>\n",
       "      <td>0.61586</td>\n",
       "      <td>0.31865</td>\n",
       "      <td>0.54320</td>\n",
       "      <td>0.50521</td>\n",
       "      <td>0.23552</td>\n",
       "      <td>0.96819</td>\n",
       "    </tr>\n",
       "    <tr>\n",
       "      <th>Guinea</th>\n",
       "      <td>Sub-Saharan Africa</td>\n",
       "      <td>151</td>\n",
       "      <td>3.607</td>\n",
       "      <td>3.533</td>\n",
       "      <td>3.681</td>\n",
       "      <td>0.22415</td>\n",
       "      <td>0.31090</td>\n",
       "      <td>0.18829</td>\n",
       "      <td>0.30953</td>\n",
       "      <td>0.11920</td>\n",
       "      <td>0.29914</td>\n",
       "      <td>2.15604</td>\n",
       "    </tr>\n",
       "    <tr>\n",
       "      <th>Liberia</th>\n",
       "      <td>Sub-Saharan Africa</td>\n",
       "      <td>150</td>\n",
       "      <td>3.622</td>\n",
       "      <td>3.463</td>\n",
       "      <td>3.781</td>\n",
       "      <td>0.10706</td>\n",
       "      <td>0.50353</td>\n",
       "      <td>0.23165</td>\n",
       "      <td>0.25748</td>\n",
       "      <td>0.04852</td>\n",
       "      <td>0.24063</td>\n",
       "      <td>2.23284</td>\n",
       "    </tr>\n",
       "    <tr>\n",
       "      <th>Tanzania</th>\n",
       "      <td>Sub-Saharan Africa</td>\n",
       "      <td>149</td>\n",
       "      <td>3.666</td>\n",
       "      <td>3.561</td>\n",
       "      <td>3.771</td>\n",
       "      <td>0.47155</td>\n",
       "      <td>0.77623</td>\n",
       "      <td>0.35700</td>\n",
       "      <td>0.31760</td>\n",
       "      <td>0.05099</td>\n",
       "      <td>0.31472</td>\n",
       "      <td>1.37769</td>\n",
       "    </tr>\n",
       "    <tr>\n",
       "      <th>Madagascar</th>\n",
       "      <td>Sub-Saharan Africa</td>\n",
       "      <td>148</td>\n",
       "      <td>3.695</td>\n",
       "      <td>3.621</td>\n",
       "      <td>3.769</td>\n",
       "      <td>0.27954</td>\n",
       "      <td>0.46115</td>\n",
       "      <td>0.37109</td>\n",
       "      <td>0.13684</td>\n",
       "      <td>0.07506</td>\n",
       "      <td>0.22040</td>\n",
       "      <td>2.15075</td>\n",
       "    </tr>\n",
       "  </tbody>\n",
       "</table>\n",
       "</div>"
      ],
      "text/plain": [
       "                                      Region  Happiness Rank  Happiness Score  \\\n",
       "Country                                                                         \n",
       "Burundi                   Sub-Saharan Africa             157            2.905   \n",
       "Syria        Middle East and Northern Africa             156            3.069   \n",
       "Togo                      Sub-Saharan Africa             155            3.303   \n",
       "Afghanistan                    Southern Asia             154            3.360   \n",
       "Benin                     Sub-Saharan Africa             153            3.484   \n",
       "Rwanda                    Sub-Saharan Africa             152            3.515   \n",
       "Guinea                    Sub-Saharan Africa             151            3.607   \n",
       "Liberia                   Sub-Saharan Africa             150            3.622   \n",
       "Tanzania                  Sub-Saharan Africa             149            3.666   \n",
       "Madagascar                Sub-Saharan Africa             148            3.695   \n",
       "\n",
       "             Lower Confidence Interval  Upper Confidence Interval  \\\n",
       "Country                                                             \n",
       "Burundi                          2.732                      3.078   \n",
       "Syria                            2.936                      3.202   \n",
       "Togo                             3.192                      3.414   \n",
       "Afghanistan                      3.288                      3.432   \n",
       "Benin                            3.404                      3.564   \n",
       "Rwanda                           3.444                      3.586   \n",
       "Guinea                           3.533                      3.681   \n",
       "Liberia                          3.463                      3.781   \n",
       "Tanzania                         3.561                      3.771   \n",
       "Madagascar                       3.621                      3.769   \n",
       "\n",
       "             Economy (GDP per Capita)   Family  Health (Life Expectancy)  \\\n",
       "Country                                                                    \n",
       "Burundi                       0.06831  0.23442                   0.15747   \n",
       "Syria                         0.74719  0.14866                   0.62994   \n",
       "Togo                          0.28123  0.00000                   0.24811   \n",
       "Afghanistan                   0.38227  0.11037                   0.17344   \n",
       "Benin                         0.39499  0.10419                   0.21028   \n",
       "Rwanda                        0.32846  0.61586                   0.31865   \n",
       "Guinea                        0.22415  0.31090                   0.18829   \n",
       "Liberia                       0.10706  0.50353                   0.23165   \n",
       "Tanzania                      0.47155  0.77623                   0.35700   \n",
       "Madagascar                    0.27954  0.46115                   0.37109   \n",
       "\n",
       "             Freedom  Trust (Government Corruption)  Generosity  \\\n",
       "Country                                                           \n",
       "Burundi      0.04320                        0.09419     0.20290   \n",
       "Syria        0.06912                        0.17233     0.48397   \n",
       "Togo         0.34678                        0.11587     0.17517   \n",
       "Afghanistan  0.16430                        0.07112     0.31268   \n",
       "Benin        0.39747                        0.06681     0.20180   \n",
       "Rwanda       0.54320                        0.50521     0.23552   \n",
       "Guinea       0.30953                        0.11920     0.29914   \n",
       "Liberia      0.25748                        0.04852     0.24063   \n",
       "Tanzania     0.31760                        0.05099     0.31472   \n",
       "Madagascar   0.13684                        0.07506     0.22040   \n",
       "\n",
       "             Dystopia Residual  \n",
       "Country                         \n",
       "Burundi                2.10404  \n",
       "Syria                  0.81789  \n",
       "Togo                   2.13540  \n",
       "Afghanistan            2.14558  \n",
       "Benin                  2.10812  \n",
       "Rwanda                 0.96819  \n",
       "Guinea                 2.15604  \n",
       "Liberia                2.23284  \n",
       "Tanzania               1.37769  \n",
       "Madagascar             2.15075  "
      ]
     },
     "execution_count": 13,
     "metadata": {},
     "output_type": "execute_result"
    }
   ],
   "source": [
    "whr.sort_values(by=\"Happiness Rank\", ascending=False).head(10)"
   ]
  },
  {
   "cell_type": "markdown",
   "metadata": {},
   "source": [
    "### B. Indexing and grouping\n",
    "\n",
    "* Use the column 'Region' to create a separate DataFrame containing the data points from each of the six regions: North America, Latin America, Western Europe, Eastern Europe, Asia Pacific, Africa.\n",
    "* Compute the mean happiness score for each region and rank the regions from most happy to least happy.\n",
    "* Compute the number of countries in each region that have a happiness score above 6.0.\n",
    "* Compute the difference between the maximum and minimum happiness score for each region. Which region has the largest range of happiness scores?"
   ]
  },
  {
   "cell_type": "code",
   "execution_count": 14,
   "metadata": {},
   "outputs": [],
   "source": [
    "whr_Region = whr.groupby('Region')"
   ]
  },
  {
   "cell_type": "code",
   "execution_count": 15,
   "metadata": {},
   "outputs": [
    {
     "data": {
      "text/html": [
       "<div>\n",
       "<style scoped>\n",
       "    .dataframe tbody tr th:only-of-type {\n",
       "        vertical-align: middle;\n",
       "    }\n",
       "\n",
       "    .dataframe tbody tr th {\n",
       "        vertical-align: top;\n",
       "    }\n",
       "\n",
       "    .dataframe thead th {\n",
       "        text-align: right;\n",
       "    }\n",
       "</style>\n",
       "<table border=\"1\" class=\"dataframe\">\n",
       "  <thead>\n",
       "    <tr style=\"text-align: right;\">\n",
       "      <th></th>\n",
       "      <th>count</th>\n",
       "      <th>mean</th>\n",
       "      <th>std</th>\n",
       "      <th>min</th>\n",
       "      <th>25%</th>\n",
       "      <th>50%</th>\n",
       "      <th>75%</th>\n",
       "      <th>max</th>\n",
       "    </tr>\n",
       "    <tr>\n",
       "      <th>Region</th>\n",
       "      <th></th>\n",
       "      <th></th>\n",
       "      <th></th>\n",
       "      <th></th>\n",
       "      <th></th>\n",
       "      <th></th>\n",
       "      <th></th>\n",
       "      <th></th>\n",
       "    </tr>\n",
       "  </thead>\n",
       "  <tbody>\n",
       "    <tr>\n",
       "      <th>Sub-Saharan Africa</th>\n",
       "      <td>38.0</td>\n",
       "      <td>4.136421</td>\n",
       "      <td>0.558494</td>\n",
       "      <td>2.905</td>\n",
       "      <td>3.74500</td>\n",
       "      <td>4.1300</td>\n",
       "      <td>4.43325</td>\n",
       "      <td>5.648</td>\n",
       "    </tr>\n",
       "    <tr>\n",
       "      <th>Southern Asia</th>\n",
       "      <td>7.0</td>\n",
       "      <td>4.563286</td>\n",
       "      <td>0.616190</td>\n",
       "      <td>3.360</td>\n",
       "      <td>4.40950</td>\n",
       "      <td>4.6430</td>\n",
       "      <td>4.96250</td>\n",
       "      <td>5.196</td>\n",
       "    </tr>\n",
       "    <tr>\n",
       "      <th>Southeastern Asia</th>\n",
       "      <td>9.0</td>\n",
       "      <td>5.338889</td>\n",
       "      <td>0.930686</td>\n",
       "      <td>3.907</td>\n",
       "      <td>4.87600</td>\n",
       "      <td>5.2790</td>\n",
       "      <td>6.00500</td>\n",
       "      <td>6.739</td>\n",
       "    </tr>\n",
       "    <tr>\n",
       "      <th>Central and Eastern Europe</th>\n",
       "      <td>29.0</td>\n",
       "      <td>5.370690</td>\n",
       "      <td>0.590395</td>\n",
       "      <td>4.217</td>\n",
       "      <td>5.14500</td>\n",
       "      <td>5.4880</td>\n",
       "      <td>5.81300</td>\n",
       "      <td>6.596</td>\n",
       "    </tr>\n",
       "    <tr>\n",
       "      <th>Middle East and Northern Africa</th>\n",
       "      <td>19.0</td>\n",
       "      <td>5.386053</td>\n",
       "      <td>1.057559</td>\n",
       "      <td>3.069</td>\n",
       "      <td>4.78350</td>\n",
       "      <td>5.3030</td>\n",
       "      <td>6.29700</td>\n",
       "      <td>7.267</td>\n",
       "    </tr>\n",
       "    <tr>\n",
       "      <th>Eastern Asia</th>\n",
       "      <td>6.0</td>\n",
       "      <td>5.624167</td>\n",
       "      <td>0.526885</td>\n",
       "      <td>4.907</td>\n",
       "      <td>5.29825</td>\n",
       "      <td>5.6465</td>\n",
       "      <td>5.89950</td>\n",
       "      <td>6.379</td>\n",
       "    </tr>\n",
       "    <tr>\n",
       "      <th>Latin America and Caribbean</th>\n",
       "      <td>24.0</td>\n",
       "      <td>6.101750</td>\n",
       "      <td>0.725680</td>\n",
       "      <td>4.028</td>\n",
       "      <td>5.80225</td>\n",
       "      <td>6.1260</td>\n",
       "      <td>6.66275</td>\n",
       "      <td>7.087</td>\n",
       "    </tr>\n",
       "    <tr>\n",
       "      <th>Western Europe</th>\n",
       "      <td>21.0</td>\n",
       "      <td>6.685667</td>\n",
       "      <td>0.789190</td>\n",
       "      <td>5.033</td>\n",
       "      <td>6.36100</td>\n",
       "      <td>6.9070</td>\n",
       "      <td>7.33900</td>\n",
       "      <td>7.526</td>\n",
       "    </tr>\n",
       "    <tr>\n",
       "      <th>North America</th>\n",
       "      <td>2.0</td>\n",
       "      <td>7.254000</td>\n",
       "      <td>0.212132</td>\n",
       "      <td>7.104</td>\n",
       "      <td>7.17900</td>\n",
       "      <td>7.2540</td>\n",
       "      <td>7.32900</td>\n",
       "      <td>7.404</td>\n",
       "    </tr>\n",
       "    <tr>\n",
       "      <th>Australia and New Zealand</th>\n",
       "      <td>2.0</td>\n",
       "      <td>7.323500</td>\n",
       "      <td>0.014849</td>\n",
       "      <td>7.313</td>\n",
       "      <td>7.31825</td>\n",
       "      <td>7.3235</td>\n",
       "      <td>7.32875</td>\n",
       "      <td>7.334</td>\n",
       "    </tr>\n",
       "  </tbody>\n",
       "</table>\n",
       "</div>"
      ],
      "text/plain": [
       "                                 count      mean       std    min      25%  \\\n",
       "Region                                                                       \n",
       "Sub-Saharan Africa                38.0  4.136421  0.558494  2.905  3.74500   \n",
       "Southern Asia                      7.0  4.563286  0.616190  3.360  4.40950   \n",
       "Southeastern Asia                  9.0  5.338889  0.930686  3.907  4.87600   \n",
       "Central and Eastern Europe        29.0  5.370690  0.590395  4.217  5.14500   \n",
       "Middle East and Northern Africa   19.0  5.386053  1.057559  3.069  4.78350   \n",
       "Eastern Asia                       6.0  5.624167  0.526885  4.907  5.29825   \n",
       "Latin America and Caribbean       24.0  6.101750  0.725680  4.028  5.80225   \n",
       "Western Europe                    21.0  6.685667  0.789190  5.033  6.36100   \n",
       "North America                      2.0  7.254000  0.212132  7.104  7.17900   \n",
       "Australia and New Zealand          2.0  7.323500  0.014849  7.313  7.31825   \n",
       "\n",
       "                                    50%      75%    max  \n",
       "Region                                                   \n",
       "Sub-Saharan Africa               4.1300  4.43325  5.648  \n",
       "Southern Asia                    4.6430  4.96250  5.196  \n",
       "Southeastern Asia                5.2790  6.00500  6.739  \n",
       "Central and Eastern Europe       5.4880  5.81300  6.596  \n",
       "Middle East and Northern Africa  5.3030  6.29700  7.267  \n",
       "Eastern Asia                     5.6465  5.89950  6.379  \n",
       "Latin America and Caribbean      6.1260  6.66275  7.087  \n",
       "Western Europe                   6.9070  7.33900  7.526  \n",
       "North America                    7.2540  7.32900  7.404  \n",
       "Australia and New Zealand        7.3235  7.32875  7.334  "
      ]
     },
     "execution_count": 15,
     "metadata": {},
     "output_type": "execute_result"
    }
   ],
   "source": [
    "whr_Region['Happiness Score'].describe().sort_values(by=\"mean\",ascending=True).head(10)"
   ]
  },
  {
   "cell_type": "code",
   "execution_count": 16,
   "metadata": {},
   "outputs": [
    {
     "data": {
      "text/html": [
       "<div>\n",
       "<style scoped>\n",
       "    .dataframe tbody tr th:only-of-type {\n",
       "        vertical-align: middle;\n",
       "    }\n",
       "\n",
       "    .dataframe tbody tr th {\n",
       "        vertical-align: top;\n",
       "    }\n",
       "\n",
       "    .dataframe thead th {\n",
       "        text-align: right;\n",
       "    }\n",
       "</style>\n",
       "<table border=\"1\" class=\"dataframe\">\n",
       "  <thead>\n",
       "    <tr style=\"text-align: right;\">\n",
       "      <th></th>\n",
       "      <th>Region</th>\n",
       "      <th>Happiness Rank</th>\n",
       "      <th>Happiness Score</th>\n",
       "      <th>Lower Confidence Interval</th>\n",
       "      <th>Upper Confidence Interval</th>\n",
       "      <th>Economy (GDP per Capita)</th>\n",
       "      <th>Family</th>\n",
       "      <th>Health (Life Expectancy)</th>\n",
       "      <th>Freedom</th>\n",
       "      <th>Trust (Government Corruption)</th>\n",
       "      <th>Generosity</th>\n",
       "      <th>Dystopia Residual</th>\n",
       "    </tr>\n",
       "    <tr>\n",
       "      <th>Country</th>\n",
       "      <th></th>\n",
       "      <th></th>\n",
       "      <th></th>\n",
       "      <th></th>\n",
       "      <th></th>\n",
       "      <th></th>\n",
       "      <th></th>\n",
       "      <th></th>\n",
       "      <th></th>\n",
       "      <th></th>\n",
       "      <th></th>\n",
       "      <th></th>\n",
       "    </tr>\n",
       "  </thead>\n",
       "  <tbody>\n",
       "    <tr>\n",
       "      <th>Denmark</th>\n",
       "      <td>Western Europe</td>\n",
       "      <td>1</td>\n",
       "      <td>7.526</td>\n",
       "      <td>7.460</td>\n",
       "      <td>7.592</td>\n",
       "      <td>1.44178</td>\n",
       "      <td>1.16374</td>\n",
       "      <td>0.79504</td>\n",
       "      <td>0.57941</td>\n",
       "      <td>0.44453</td>\n",
       "      <td>0.36171</td>\n",
       "      <td>2.73939</td>\n",
       "    </tr>\n",
       "    <tr>\n",
       "      <th>Switzerland</th>\n",
       "      <td>Western Europe</td>\n",
       "      <td>2</td>\n",
       "      <td>7.509</td>\n",
       "      <td>7.428</td>\n",
       "      <td>7.590</td>\n",
       "      <td>1.52733</td>\n",
       "      <td>1.14524</td>\n",
       "      <td>0.86303</td>\n",
       "      <td>0.58557</td>\n",
       "      <td>0.41203</td>\n",
       "      <td>0.28083</td>\n",
       "      <td>2.69463</td>\n",
       "    </tr>\n",
       "    <tr>\n",
       "      <th>Iceland</th>\n",
       "      <td>Western Europe</td>\n",
       "      <td>3</td>\n",
       "      <td>7.501</td>\n",
       "      <td>7.333</td>\n",
       "      <td>7.669</td>\n",
       "      <td>1.42666</td>\n",
       "      <td>1.18326</td>\n",
       "      <td>0.86733</td>\n",
       "      <td>0.56624</td>\n",
       "      <td>0.14975</td>\n",
       "      <td>0.47678</td>\n",
       "      <td>2.83137</td>\n",
       "    </tr>\n",
       "    <tr>\n",
       "      <th>Norway</th>\n",
       "      <td>Western Europe</td>\n",
       "      <td>4</td>\n",
       "      <td>7.498</td>\n",
       "      <td>7.421</td>\n",
       "      <td>7.575</td>\n",
       "      <td>1.57744</td>\n",
       "      <td>1.12690</td>\n",
       "      <td>0.79579</td>\n",
       "      <td>0.59609</td>\n",
       "      <td>0.35776</td>\n",
       "      <td>0.37895</td>\n",
       "      <td>2.66465</td>\n",
       "    </tr>\n",
       "    <tr>\n",
       "      <th>Finland</th>\n",
       "      <td>Western Europe</td>\n",
       "      <td>5</td>\n",
       "      <td>7.413</td>\n",
       "      <td>7.351</td>\n",
       "      <td>7.475</td>\n",
       "      <td>1.40598</td>\n",
       "      <td>1.13464</td>\n",
       "      <td>0.81091</td>\n",
       "      <td>0.57104</td>\n",
       "      <td>0.41004</td>\n",
       "      <td>0.25492</td>\n",
       "      <td>2.82596</td>\n",
       "    </tr>\n",
       "  </tbody>\n",
       "</table>\n",
       "</div>"
      ],
      "text/plain": [
       "                     Region  Happiness Rank  Happiness Score  \\\n",
       "Country                                                        \n",
       "Denmark      Western Europe               1            7.526   \n",
       "Switzerland  Western Europe               2            7.509   \n",
       "Iceland      Western Europe               3            7.501   \n",
       "Norway       Western Europe               4            7.498   \n",
       "Finland      Western Europe               5            7.413   \n",
       "\n",
       "             Lower Confidence Interval  Upper Confidence Interval  \\\n",
       "Country                                                             \n",
       "Denmark                          7.460                      7.592   \n",
       "Switzerland                      7.428                      7.590   \n",
       "Iceland                          7.333                      7.669   \n",
       "Norway                           7.421                      7.575   \n",
       "Finland                          7.351                      7.475   \n",
       "\n",
       "             Economy (GDP per Capita)   Family  Health (Life Expectancy)  \\\n",
       "Country                                                                    \n",
       "Denmark                       1.44178  1.16374                   0.79504   \n",
       "Switzerland                   1.52733  1.14524                   0.86303   \n",
       "Iceland                       1.42666  1.18326                   0.86733   \n",
       "Norway                        1.57744  1.12690                   0.79579   \n",
       "Finland                       1.40598  1.13464                   0.81091   \n",
       "\n",
       "             Freedom  Trust (Government Corruption)  Generosity  \\\n",
       "Country                                                           \n",
       "Denmark      0.57941                        0.44453     0.36171   \n",
       "Switzerland  0.58557                        0.41203     0.28083   \n",
       "Iceland      0.56624                        0.14975     0.47678   \n",
       "Norway       0.59609                        0.35776     0.37895   \n",
       "Finland      0.57104                        0.41004     0.25492   \n",
       "\n",
       "             Dystopia Residual  \n",
       "Country                         \n",
       "Denmark                2.73939  \n",
       "Switzerland            2.69463  \n",
       "Iceland                2.83137  \n",
       "Norway                 2.66465  \n",
       "Finland                2.82596  "
      ]
     },
     "execution_count": 16,
     "metadata": {},
     "output_type": "execute_result"
    }
   ],
   "source": [
    "whr[whr[\"Region\"]==\"Western Europe\"].head()"
   ]
  },
  {
   "cell_type": "code",
   "execution_count": 17,
   "metadata": {},
   "outputs": [],
   "source": [
    "whr = whr.replace('Europe', 'Eastern Europe')"
   ]
  },
  {
   "cell_type": "code",
   "execution_count": 18,
   "metadata": {},
   "outputs": [
    {
     "data": {
      "text/html": [
       "<div>\n",
       "<style scoped>\n",
       "    .dataframe tbody tr th:only-of-type {\n",
       "        vertical-align: middle;\n",
       "    }\n",
       "\n",
       "    .dataframe tbody tr th {\n",
       "        vertical-align: top;\n",
       "    }\n",
       "\n",
       "    .dataframe thead th {\n",
       "        text-align: right;\n",
       "    }\n",
       "</style>\n",
       "<table border=\"1\" class=\"dataframe\">\n",
       "  <thead>\n",
       "    <tr style=\"text-align: right;\">\n",
       "      <th></th>\n",
       "      <th>count</th>\n",
       "      <th>mean</th>\n",
       "      <th>std</th>\n",
       "      <th>min</th>\n",
       "      <th>25%</th>\n",
       "      <th>50%</th>\n",
       "      <th>75%</th>\n",
       "      <th>max</th>\n",
       "    </tr>\n",
       "    <tr>\n",
       "      <th>Region</th>\n",
       "      <th></th>\n",
       "      <th></th>\n",
       "      <th></th>\n",
       "      <th></th>\n",
       "      <th></th>\n",
       "      <th></th>\n",
       "      <th></th>\n",
       "      <th></th>\n",
       "    </tr>\n",
       "  </thead>\n",
       "  <tbody>\n",
       "    <tr>\n",
       "      <th>Australia and New Zealand</th>\n",
       "      <td>2.0</td>\n",
       "      <td>7.323500</td>\n",
       "      <td>0.014849</td>\n",
       "      <td>7.313</td>\n",
       "      <td>7.31825</td>\n",
       "      <td>7.3235</td>\n",
       "      <td>7.32875</td>\n",
       "      <td>7.334</td>\n",
       "    </tr>\n",
       "    <tr>\n",
       "      <th>North America</th>\n",
       "      <td>2.0</td>\n",
       "      <td>7.254000</td>\n",
       "      <td>0.212132</td>\n",
       "      <td>7.104</td>\n",
       "      <td>7.17900</td>\n",
       "      <td>7.2540</td>\n",
       "      <td>7.32900</td>\n",
       "      <td>7.404</td>\n",
       "    </tr>\n",
       "    <tr>\n",
       "      <th>Western Europe</th>\n",
       "      <td>21.0</td>\n",
       "      <td>6.685667</td>\n",
       "      <td>0.789190</td>\n",
       "      <td>5.033</td>\n",
       "      <td>6.36100</td>\n",
       "      <td>6.9070</td>\n",
       "      <td>7.33900</td>\n",
       "      <td>7.526</td>\n",
       "    </tr>\n",
       "    <tr>\n",
       "      <th>Latin America and Caribbean</th>\n",
       "      <td>24.0</td>\n",
       "      <td>6.101750</td>\n",
       "      <td>0.725680</td>\n",
       "      <td>4.028</td>\n",
       "      <td>5.80225</td>\n",
       "      <td>6.1260</td>\n",
       "      <td>6.66275</td>\n",
       "      <td>7.087</td>\n",
       "    </tr>\n",
       "    <tr>\n",
       "      <th>Eastern Asia</th>\n",
       "      <td>6.0</td>\n",
       "      <td>5.624167</td>\n",
       "      <td>0.526885</td>\n",
       "      <td>4.907</td>\n",
       "      <td>5.29825</td>\n",
       "      <td>5.6465</td>\n",
       "      <td>5.89950</td>\n",
       "      <td>6.379</td>\n",
       "    </tr>\n",
       "    <tr>\n",
       "      <th>Middle East and Northern Africa</th>\n",
       "      <td>19.0</td>\n",
       "      <td>5.386053</td>\n",
       "      <td>1.057559</td>\n",
       "      <td>3.069</td>\n",
       "      <td>4.78350</td>\n",
       "      <td>5.3030</td>\n",
       "      <td>6.29700</td>\n",
       "      <td>7.267</td>\n",
       "    </tr>\n",
       "    <tr>\n",
       "      <th>Central and Eastern Europe</th>\n",
       "      <td>29.0</td>\n",
       "      <td>5.370690</td>\n",
       "      <td>0.590395</td>\n",
       "      <td>4.217</td>\n",
       "      <td>5.14500</td>\n",
       "      <td>5.4880</td>\n",
       "      <td>5.81300</td>\n",
       "      <td>6.596</td>\n",
       "    </tr>\n",
       "    <tr>\n",
       "      <th>Southeastern Asia</th>\n",
       "      <td>9.0</td>\n",
       "      <td>5.338889</td>\n",
       "      <td>0.930686</td>\n",
       "      <td>3.907</td>\n",
       "      <td>4.87600</td>\n",
       "      <td>5.2790</td>\n",
       "      <td>6.00500</td>\n",
       "      <td>6.739</td>\n",
       "    </tr>\n",
       "    <tr>\n",
       "      <th>Southern Asia</th>\n",
       "      <td>7.0</td>\n",
       "      <td>4.563286</td>\n",
       "      <td>0.616190</td>\n",
       "      <td>3.360</td>\n",
       "      <td>4.40950</td>\n",
       "      <td>4.6430</td>\n",
       "      <td>4.96250</td>\n",
       "      <td>5.196</td>\n",
       "    </tr>\n",
       "    <tr>\n",
       "      <th>Sub-Saharan Africa</th>\n",
       "      <td>38.0</td>\n",
       "      <td>4.136421</td>\n",
       "      <td>0.558494</td>\n",
       "      <td>2.905</td>\n",
       "      <td>3.74500</td>\n",
       "      <td>4.1300</td>\n",
       "      <td>4.43325</td>\n",
       "      <td>5.648</td>\n",
       "    </tr>\n",
       "  </tbody>\n",
       "</table>\n",
       "</div>"
      ],
      "text/plain": [
       "                                 count      mean       std    min      25%  \\\n",
       "Region                                                                       \n",
       "Australia and New Zealand          2.0  7.323500  0.014849  7.313  7.31825   \n",
       "North America                      2.0  7.254000  0.212132  7.104  7.17900   \n",
       "Western Europe                    21.0  6.685667  0.789190  5.033  6.36100   \n",
       "Latin America and Caribbean       24.0  6.101750  0.725680  4.028  5.80225   \n",
       "Eastern Asia                       6.0  5.624167  0.526885  4.907  5.29825   \n",
       "Middle East and Northern Africa   19.0  5.386053  1.057559  3.069  4.78350   \n",
       "Central and Eastern Europe        29.0  5.370690  0.590395  4.217  5.14500   \n",
       "Southeastern Asia                  9.0  5.338889  0.930686  3.907  4.87600   \n",
       "Southern Asia                      7.0  4.563286  0.616190  3.360  4.40950   \n",
       "Sub-Saharan Africa                38.0  4.136421  0.558494  2.905  3.74500   \n",
       "\n",
       "                                    50%      75%    max  \n",
       "Region                                                   \n",
       "Australia and New Zealand        7.3235  7.32875  7.334  \n",
       "North America                    7.2540  7.32900  7.404  \n",
       "Western Europe                   6.9070  7.33900  7.526  \n",
       "Latin America and Caribbean      6.1260  6.66275  7.087  \n",
       "Eastern Asia                     5.6465  5.89950  6.379  \n",
       "Middle East and Northern Africa  5.3030  6.29700  7.267  \n",
       "Central and Eastern Europe       5.4880  5.81300  6.596  \n",
       "Southeastern Asia                5.2790  6.00500  6.739  \n",
       "Southern Asia                    4.6430  4.96250  5.196  \n",
       "Sub-Saharan Africa               4.1300  4.43325  5.648  "
      ]
     },
     "execution_count": 18,
     "metadata": {},
     "output_type": "execute_result"
    }
   ],
   "source": [
    "whr_Region['Happiness Score'].describe().sort_values(by=\"mean\",ascending=False).head(10)"
   ]
  },
  {
   "cell_type": "code",
   "execution_count": 19,
   "metadata": {},
   "outputs": [],
   "source": [
    "whr_SSA = whr[whr['Region'] == 'Sub-Saharan Africa']\n",
    "whr_WE = whr[whr['Region'] == 'Western Europe']\n",
    "whr_CEE = whr[whr['Region'] == 'Central and Eastern Europe']\n",
    "whr_NA = whr[whr['Region'] == 'North America']\n",
    "whr_ANZ = whr[whr['Region'] == 'Australia and New Zealand']\n",
    "whr_LAC = whr[whr['Region'] == 'Latin America and Caribbean']\n",
    "whr_EA = whr[whr['Region'] == 'Eastern Asia']\n",
    "whr_MENA = whr[whr['Region'] == 'Middle East and Northern Africa']\n",
    "whr_SEA = whr[whr['Region'] == 'Southeastern Asia']\n",
    "whr_SA = whr[whr['Region'] == 'Southern Asia']"
   ]
  },
  {
   "cell_type": "code",
   "execution_count": 20,
   "metadata": {},
   "outputs": [
    {
     "data": {
      "text/plain": [
       "0"
      ]
     },
     "execution_count": 20,
     "metadata": {},
     "output_type": "execute_result"
    }
   ],
   "source": [
    "len(whr_SSA[whr_SSA['Happiness Score'] > 6])"
   ]
  },
  {
   "cell_type": "code",
   "execution_count": 21,
   "metadata": {},
   "outputs": [
    {
     "name": "stdout",
     "output_type": "stream",
     "text": [
      "There are 0 countries in Sub-Saharan Africa that have a happiness score above 6.0 \n"
     ]
    }
   ],
   "source": [
    "print(\"There are {} countries in Sub-Saharan Africa that have a happiness score above 6.0 \".format(len(whr_SSA[whr_SSA['Happiness Score'] > 6])))"
   ]
  },
  {
   "cell_type": "code",
   "execution_count": 22,
   "metadata": {},
   "outputs": [
    {
     "name": "stdout",
     "output_type": "stream",
     "text": [
      "2.743\n"
     ]
    }
   ],
   "source": [
    "Delta_SSA = whr_SSA.max(axis=0)['Happiness Score'] - whr_SSA.min(axis=0)['Happiness Score']\n",
    "print(Delta_SSA)"
   ]
  },
  {
   "cell_type": "code",
   "execution_count": 23,
   "metadata": {},
   "outputs": [
    {
     "data": {
      "text/plain": [
       "16"
      ]
     },
     "execution_count": 23,
     "metadata": {},
     "output_type": "execute_result"
    }
   ],
   "source": [
    "len(whr_WE[whr_WE['Happiness Score'] > 6])"
   ]
  },
  {
   "cell_type": "code",
   "execution_count": 24,
   "metadata": {},
   "outputs": [
    {
     "name": "stdout",
     "output_type": "stream",
     "text": [
      "There are 16 countries in Western Europe that have a happiness score above 6.0 \n"
     ]
    }
   ],
   "source": [
    "print(\"There are {} countries in Western Europe that have a happiness score above 6.0 \".format(len(whr_WE[whr_WE['Happiness Score'] > 6])))"
   ]
  },
  {
   "cell_type": "code",
   "execution_count": 25,
   "metadata": {},
   "outputs": [
    {
     "name": "stdout",
     "output_type": "stream",
     "text": [
      "2.4929999999999994\n"
     ]
    }
   ],
   "source": [
    "Delta_WE = whr_WE.max(axis=0)['Happiness Score'] - whr_WE.min(axis=0)['Happiness Score']\n",
    "print(Delta_WE)"
   ]
  },
  {
   "cell_type": "code",
   "execution_count": 26,
   "metadata": {},
   "outputs": [
    {
     "data": {
      "text/plain": [
       "2"
      ]
     },
     "execution_count": 26,
     "metadata": {},
     "output_type": "execute_result"
    }
   ],
   "source": [
    "len(whr_CEE[whr_CEE['Happiness Score'] > 6])"
   ]
  },
  {
   "cell_type": "code",
   "execution_count": 27,
   "metadata": {},
   "outputs": [
    {
     "name": "stdout",
     "output_type": "stream",
     "text": [
      "There is 2 country in Central and Eastern Europe that has a happiness score above 6.0 \n"
     ]
    }
   ],
   "source": [
    "print(\"There is {} country in Central and Eastern Europe that has a happiness score above 6.0 \".format(len(whr_CEE[whr_CEE['Happiness Score'] > 6])))"
   ]
  },
  {
   "cell_type": "code",
   "execution_count": 28,
   "metadata": {},
   "outputs": [
    {
     "name": "stdout",
     "output_type": "stream",
     "text": [
      "2.3790000000000004\n"
     ]
    }
   ],
   "source": [
    "Delta_CEE = whr_CEE.max(axis=0)['Happiness Score'] - whr_CEE.min(axis=0)['Happiness Score']\n",
    "print(Delta_CEE)"
   ]
  },
  {
   "cell_type": "code",
   "execution_count": 29,
   "metadata": {},
   "outputs": [
    {
     "data": {
      "text/plain": [
       "2"
      ]
     },
     "execution_count": 29,
     "metadata": {},
     "output_type": "execute_result"
    }
   ],
   "source": [
    "len(whr_NA[whr_NA['Happiness Score'] > 6])"
   ]
  },
  {
   "cell_type": "code",
   "execution_count": 30,
   "metadata": {},
   "outputs": [
    {
     "name": "stdout",
     "output_type": "stream",
     "text": [
      "There are 2 countries in the North America that have a happiness score above 6.0 \n"
     ]
    }
   ],
   "source": [
    "print(\"There are {} countries in the North America that have a happiness score above 6.0 \".format(len(whr_NA[whr_NA['Happiness Score'] > 6])))"
   ]
  },
  {
   "cell_type": "code",
   "execution_count": 31,
   "metadata": {},
   "outputs": [
    {
     "name": "stdout",
     "output_type": "stream",
     "text": [
      "0.2999999999999998\n"
     ]
    }
   ],
   "source": [
    "Delta_NA = whr_NA.max(axis=0)['Happiness Score'] - whr_NA.min(axis=0)['Happiness Score']\n",
    "print(Delta_NA)"
   ]
  },
  {
   "cell_type": "code",
   "execution_count": 32,
   "metadata": {},
   "outputs": [
    {
     "data": {
      "text/plain": [
       "2"
      ]
     },
     "execution_count": 32,
     "metadata": {},
     "output_type": "execute_result"
    }
   ],
   "source": [
    "len(whr_ANZ[whr_ANZ['Happiness Score'] > 6])"
   ]
  },
  {
   "cell_type": "code",
   "execution_count": 33,
   "metadata": {},
   "outputs": [
    {
     "name": "stdout",
     "output_type": "stream",
     "text": [
      "There are 2 countries in the Australia and New Zealand that have a happiness score above 6.0 \n"
     ]
    }
   ],
   "source": [
    "print(\"There are {} countries in the Australia and New Zealand that have a happiness score above 6.0 \".format(len(whr_ANZ[whr_ANZ['Happiness Score'] > 6])))"
   ]
  },
  {
   "cell_type": "code",
   "execution_count": 34,
   "metadata": {},
   "outputs": [
    {
     "name": "stdout",
     "output_type": "stream",
     "text": [
      "0.020999999999999908\n"
     ]
    }
   ],
   "source": [
    "Delta_ANZ = whr_ANZ.max(axis=0)['Happiness Score'] - whr_ANZ.min(axis=0)['Happiness Score']\n",
    "print(Delta_ANZ)"
   ]
  },
  {
   "cell_type": "code",
   "execution_count": 35,
   "metadata": {},
   "outputs": [
    {
     "data": {
      "text/plain": [
       "14"
      ]
     },
     "execution_count": 35,
     "metadata": {},
     "output_type": "execute_result"
    }
   ],
   "source": [
    "len(whr_LAC[whr_LAC['Happiness Score'] > 6])"
   ]
  },
  {
   "cell_type": "code",
   "execution_count": 36,
   "metadata": {},
   "outputs": [
    {
     "name": "stdout",
     "output_type": "stream",
     "text": [
      "There are 14 countries in the Latin America and Caribbean that have a happiness score above 6.0 \n"
     ]
    }
   ],
   "source": [
    "print(\"There are {} countries in the Latin America and Caribbean that have a happiness score above 6.0 \".format(len(whr_LAC[whr_LAC['Happiness Score'] > 6])))"
   ]
  },
  {
   "cell_type": "code",
   "execution_count": 37,
   "metadata": {},
   "outputs": [
    {
     "name": "stdout",
     "output_type": "stream",
     "text": [
      "3.059\n"
     ]
    }
   ],
   "source": [
    "Delta_LAC = whr_LAC.max(axis=0)['Happiness Score'] - whr_LAC.min(axis=0)['Happiness Score']\n",
    "print(Delta_LAC)"
   ]
  },
  {
   "cell_type": "code",
   "execution_count": 38,
   "metadata": {},
   "outputs": [
    {
     "data": {
      "text/plain": [
       "1"
      ]
     },
     "execution_count": 38,
     "metadata": {},
     "output_type": "execute_result"
    }
   ],
   "source": [
    "len(whr_EA[whr_EA['Happiness Score'] > 6])"
   ]
  },
  {
   "cell_type": "code",
   "execution_count": 39,
   "metadata": {},
   "outputs": [
    {
     "name": "stdout",
     "output_type": "stream",
     "text": [
      "There are 1 countries in the Eastern Asia that have a happiness score above 6.0 \n"
     ]
    }
   ],
   "source": [
    "print(\"There are {} countries in the Eastern Asia that have a happiness score above 6.0 \".format(len(whr_EA[whr_EA['Happiness Score'] > 6])))"
   ]
  },
  {
   "cell_type": "code",
   "execution_count": 40,
   "metadata": {},
   "outputs": [
    {
     "name": "stdout",
     "output_type": "stream",
     "text": [
      "1.4719999999999995\n"
     ]
    }
   ],
   "source": [
    "Delta_EA = whr_EA.max(axis=0)['Happiness Score'] - whr_EA.min(axis=0)['Happiness Score']\n",
    "print(Delta_EA)"
   ]
  },
  {
   "cell_type": "code",
   "execution_count": 41,
   "metadata": {},
   "outputs": [
    {
     "data": {
      "text/plain": [
       "7"
      ]
     },
     "execution_count": 41,
     "metadata": {},
     "output_type": "execute_result"
    }
   ],
   "source": [
    "len(whr_MENA[whr_MENA['Happiness Score'] > 6])"
   ]
  },
  {
   "cell_type": "code",
   "execution_count": 42,
   "metadata": {},
   "outputs": [
    {
     "name": "stdout",
     "output_type": "stream",
     "text": [
      "There are 7 countries in the Middle East and Northern Africa that have a happiness score above 6.0 \n"
     ]
    }
   ],
   "source": [
    "print(\"There are {} countries in the Middle East and Northern Africa that have a happiness score above 6.0 \".format(len(whr_MENA[whr_MENA['Happiness Score'] > 6])))"
   ]
  },
  {
   "cell_type": "code",
   "execution_count": 43,
   "metadata": {},
   "outputs": [
    {
     "name": "stdout",
     "output_type": "stream",
     "text": [
      "4.198\n"
     ]
    }
   ],
   "source": [
    "Delta_MENA = whr_MENA.max(axis=0)['Happiness Score'] - whr_MENA.min(axis=0)['Happiness Score']\n",
    "print(Delta_MENA)"
   ]
  },
  {
   "cell_type": "code",
   "execution_count": 44,
   "metadata": {},
   "outputs": [
    {
     "data": {
      "text/plain": [
       "3"
      ]
     },
     "execution_count": 44,
     "metadata": {},
     "output_type": "execute_result"
    }
   ],
   "source": [
    "len(whr_SEA[whr_SEA['Happiness Score'] > 6])"
   ]
  },
  {
   "cell_type": "code",
   "execution_count": 45,
   "metadata": {},
   "outputs": [
    {
     "name": "stdout",
     "output_type": "stream",
     "text": [
      "There are 3 countries in the Southeastern Asia that have a happiness score above 6.0 \n"
     ]
    }
   ],
   "source": [
    "print(\"There are {} countries in the Southeastern Asia that have a happiness score above 6.0 \".format(len(whr_SEA[whr_SEA['Happiness Score'] > 6])))"
   ]
  },
  {
   "cell_type": "code",
   "execution_count": 46,
   "metadata": {},
   "outputs": [
    {
     "name": "stdout",
     "output_type": "stream",
     "text": [
      "2.832\n"
     ]
    }
   ],
   "source": [
    "Delta_SEA = whr_SEA.max(axis=0)['Happiness Score'] - whr_SEA.min(axis=0)['Happiness Score']\n",
    "print(Delta_SEA)"
   ]
  },
  {
   "cell_type": "code",
   "execution_count": 47,
   "metadata": {},
   "outputs": [
    {
     "data": {
      "text/plain": [
       "0"
      ]
     },
     "execution_count": 47,
     "metadata": {},
     "output_type": "execute_result"
    }
   ],
   "source": [
    "len(whr_SA[whr_SA['Happiness Score'] > 6])"
   ]
  },
  {
   "cell_type": "code",
   "execution_count": 48,
   "metadata": {},
   "outputs": [
    {
     "name": "stdout",
     "output_type": "stream",
     "text": [
      "There are 0 countries in the Southern Asia that have a happiness score above 6.0 \n"
     ]
    }
   ],
   "source": [
    "print(\"There are {} countries in the Southern Asia that have a happiness score above 6.0 \".format(len(whr_SA[whr_SA['Happiness Score'] > 6])))"
   ]
  },
  {
   "cell_type": "code",
   "execution_count": 49,
   "metadata": {},
   "outputs": [
    {
     "name": "stdout",
     "output_type": "stream",
     "text": [
      "1.8360000000000007\n"
     ]
    }
   ],
   "source": [
    "Delta_SA = whr_SA.max(axis=0)['Happiness Score'] - whr_SA.min(axis=0)['Happiness Score']\n",
    "print(Delta_SA)"
   ]
  },
  {
   "cell_type": "code",
   "execution_count": 50,
   "metadata": {},
   "outputs": [],
   "source": [
    "Deltas = {}"
   ]
  },
  {
   "cell_type": "code",
   "execution_count": 51,
   "metadata": {},
   "outputs": [],
   "source": [
    "Deltas[\"Sub-Saharan Africa\"] = Delta_SSA\n",
    "Deltas[\"Southern Asia\"] = Delta_SA\n",
    "Deltas[\"Western Europe\"] = Delta_WE\n",
    "Deltas[\"Middle East and Northern Africa\"] = Delta_MENA\n",
    "Deltas[\"North America\"] = Delta_NA\n",
    "Deltas[\"Central and Eastern Europe\"] = Delta_CEE\n",
    "Deltas[\"Australia and New Zealand\"] = Delta_ANZ\n",
    "Deltas[\"Latin America and Caribbean\"] = Delta_LAC\n",
    "Deltas[\"Eastern Asia\"] = Delta_EA\n",
    "Deltas[\"Southeastern Asia\"] = Delta_SEA"
   ]
  },
  {
   "cell_type": "code",
   "execution_count": 52,
   "metadata": {},
   "outputs": [
    {
     "name": "stdout",
     "output_type": "stream",
     "text": [
      "The Middle East and Northern Africa region seems to have the largest range of happiness scores\n"
     ]
    }
   ],
   "source": [
    "print(\"The {} region seems to have the largest range of happiness scores\".format(max(Deltas, key=Deltas.get)))"
   ]
  },
  {
   "cell_type": "markdown",
   "metadata": {},
   "source": [
    "### C. Bar plot of the Happiness Score\n",
    "\n",
    "* Obtain a horizontal bar plot of the Happiness Score of the top 10 countries. Your bar chart should have the names of the countries are listed vertically along the y-axis and the x-axis should have labels for each number from 0 to 8. Ensure that the chart has an appropriate title and labels.\n",
    "* You will now modify the bar chart you obtained in step 1 to turn into a stacked bar chart where the overall happiness score is divided into the seven parts corresponding to the columns:\n",
    "* Economy\n",
    "* Family\n",
    "* Health\n",
    "* Freedom\n",
    "* Generosity\n",
    "* Corruption\n",
    "* Dystopia\n",
    "* Choose a distinct color for each category and include an appropriate legend with your chart.\n",
    "* Obtain the same stacked horizontal bar chart as in step 2 but this time instead of the top 10 countries consider all countries from the region Africa."
   ]
  },
  {
   "cell_type": "code",
   "execution_count": 53,
   "metadata": {},
   "outputs": [
    {
     "data": {
      "text/plain": [
       "Text(0.5, 1.0, 'Happiness Score of the top 10 Countries')"
      ]
     },
     "execution_count": 53,
     "metadata": {},
     "output_type": "execute_result"
    },
    {
     "data": {
      "image/png": "[encoded data removed]",
      "text/plain": [
       "<Figure size 720x720 with 1 Axes>"
      ]
     },
     "metadata": {
      "needs_background": "light"
     },
     "output_type": "display_data"
    }
   ],
   "source": [
    "whr['Happiness Score'].head(10).plot(xticks=np.arange(9), kind='barh', figsize= (10, 10))\n",
    "plt.xlabel(\"Happiness Score\")\n",
    "plt.title('Happiness Score of the top 10 Countries')"
   ]
  },
  {
   "cell_type": "code",
   "execution_count": 54,
   "metadata": {},
   "outputs": [
    {
     "data": {
      "text/plain": [
       "<matplotlib.legend.Legend at 0x56e3f18550>"
      ]
     },
     "execution_count": 54,
     "metadata": {},
     "output_type": "execute_result"
    },
    {
     "data": {
      "image/png": "[encoded data removed]",
      "text/plain": [
       "<Figure size 720x720 with 1 Axes>"
      ]
     },
     "metadata": {
      "needs_background": "light"
     },
     "output_type": "display_data"
    }
   ],
   "source": [
    "whr[['Economy (GDP per Capita)','Family','Health (Life Expectancy)','Freedom','Trust (Government Corruption)','Generosity','Dystopia Residual']].head(10).plot(kind='barh',\n",
    "                                                                xticks=np.arange(9), stacked=True, figsize= (10, 10))\n",
    "\n",
    "plt.xlabel(\"Happiness Score\")\n",
    "plt.title('Happiness Score of the top 10 Countries')\n",
    "plt.legend(bbox_to_anchor=(1.05, 1), loc=2, borderaxespad=0.)"
   ]
  },
  {
   "cell_type": "code",
   "execution_count": 55,
   "metadata": {},
   "outputs": [
    {
     "data": {
      "text/plain": [
       "<matplotlib.legend.Legend at 0x56e3fdf898>"
      ]
     },
     "execution_count": 55,
     "metadata": {},
     "output_type": "execute_result"
    },
    {
     "data": {
      "image/png": "[encoded data removed]",
      "text/plain": [
       "<Figure size 720x720 with 1 Axes>"
      ]
     },
     "metadata": {
      "needs_background": "light"
     },
     "output_type": "display_data"
    }
   ],
   "source": [
    "whr_SSA[['Economy (GDP per Capita)','Family','Health (Life Expectancy)','Freedom','Trust (Government Corruption)','Generosity','Dystopia Residual']].head(10).plot(kind='barh',\n",
    "                                                                xticks=np.arange(9), stacked=True, figsize= (10, 10))\n",
    "\n",
    "plt.xlabel(\"Happiness Score\")\n",
    "plt.title('Happiness Score of the top 10 Countries')\n",
    "plt.legend(bbox_to_anchor=(1.05, 1), loc=2, borderaxespad=0.)"
   ]
  },
  {
   "cell_type": "markdown",
   "metadata": {},
   "source": [
    "### D. Pairwise Scatter plots\n",
    "\n",
    "* Obtain scatter plots of the Happiness Score versus each of the other variables. Your plots should be displayed as multiple plots table and obtained with one command as supposed to separate commands for each plot."
   ]
  },
  {
   "cell_type": "code",
   "execution_count": 56,
   "metadata": {},
   "outputs": [
    {
     "name": "stderr",
     "output_type": "stream",
     "text": [
      "C:\\ProgramData\\Anaconda3\\lib\\site-packages\\seaborn\\axisgrid.py:2065: UserWarning: The `size` parameter has been renamed to `height`; pleaes update your code.\n",
      "  warnings.warn(msg, UserWarning)\n",
      "C:\\ProgramData\\Anaconda3\\lib\\site-packages\\scipy\\stats\\stats.py:1713: FutureWarning: Using a non-tuple sequence for multidimensional indexing is deprecated; use `arr[tuple(seq)]` instead of `arr[seq]`. In the future this will be interpreted as an array index, `arr[np.array(seq)]`, which will result either in an error or a different result.\n",
      "  return np.add.reduce(sorted[indexer] * weights, axis=axis) / sumval\n"
     ]
    },
    {
     "data": {
      "text/plain": [
       "<seaborn.axisgrid.PairGrid at 0x56e3d25358>"
      ]
     },
     "execution_count": 56,
     "metadata": {},
     "output_type": "execute_result"
    },
    {
     "data": {
      "image/png": "[encoded data removed]",
      "text/plain": [
       "<Figure size 360x2520 with 7 Axes>"
      ]
     },
     "metadata": {
      "needs_background": "light"
     },
     "output_type": "display_data"
    }
   ],
   "source": [
    "sns.pairplot(data=whr, kind='reg', size = 5,\n",
    "                  x_vars=['Happiness Score'],\n",
    "                  y_vars=['Economy (GDP per Capita)','Family','Health (Life Expectancy)','Freedom','Trust (Government Corruption)','Generosity','Dystopia Residual'])"
   ]
  },
  {
   "cell_type": "code",
   "execution_count": 57,
   "metadata": {},
   "outputs": [
    {
     "data": {
      "text/plain": [
       "<seaborn.axisgrid.PairGrid at 0x56e3e97160>"
      ]
     },
     "execution_count": 57,
     "metadata": {},
     "output_type": "execute_result"
    },
    {
     "data": {
      "image/png": "[encoded data removed]",
      "text/plain": [
       "<Figure size 555.75x2520 with 7 Axes>"
      ]
     },
     "metadata": {
      "needs_background": "light"
     },
     "output_type": "display_data"
    }
   ],
   "source": [
    "sns.pairplot(data = whr, height = 5, hue = 'Region',\n",
    "                  x_vars=['Happiness Score'],\n",
    "                  y_vars=['Economy (GDP per Capita)','Family','Health (Life Expectancy)','Freedom','Trust (Government Corruption)','Generosity','Dystopia Residual'])"
   ]
  },
  {
   "cell_type": "markdown",
   "metadata": {},
   "source": [
    "### E. Correlation\n",
    "\n",
    "* Obtain the correlation between the Happiness Score and each of the other variables. Which variable has the highest correlation with the Happiness Score?"
   ]
  },
  {
   "cell_type": "code",
   "execution_count": 58,
   "metadata": {},
   "outputs": [
    {
     "data": {
      "text/plain": [
       "Happiness Score                  1.000000\n",
       "Lower Confidence Interval        0.999485\n",
       "Upper Confidence Interval        0.999474\n",
       "Economy (GDP per Capita)         0.790322\n",
       "Health (Life Expectancy)         0.765384\n",
       "Family                           0.739252\n",
       "Freedom                          0.566827\n",
       "Dystopia Residual                0.543738\n",
       "Trust (Government Corruption)    0.402032\n",
       "Generosity                       0.156848\n",
       "Happiness Rank                  -0.995743\n",
       "Name: Happiness Score, dtype: float64"
      ]
     },
     "execution_count": 58,
     "metadata": {},
     "output_type": "execute_result"
    }
   ],
   "source": [
    "whr.corr(method=\"pearson\", min_periods=20)[\"Happiness Score\"].sort_values(ascending=False)"
   ]
  },
  {
   "cell_type": "code",
   "execution_count": 59,
   "metadata": {},
   "outputs": [
    {
     "data": {
      "text/plain": [
       "Happiness Score                  1.000000\n",
       "Lower Confidence Interval        0.999485\n",
       "Upper Confidence Interval        0.999474\n",
       "Happiness Rank                   0.995743\n",
       "Economy (GDP per Capita)         0.790322\n",
       "Health (Life Expectancy)         0.765384\n",
       "Family                           0.739252\n",
       "Freedom                          0.566827\n",
       "Dystopia Residual                0.543738\n",
       "Trust (Government Corruption)    0.402032\n",
       "Generosity                       0.156848\n",
       "Name: Happiness Score, dtype: float64"
      ]
     },
     "execution_count": 59,
     "metadata": {},
     "output_type": "execute_result"
    }
   ],
   "source": [
    "whr.corr(method=\"pearson\", min_periods=20)[\"Happiness Score\"].abs().sort_values(ascending=False)"
   ]
  },
  {
   "cell_type": "code",
   "execution_count": 60,
   "metadata": {},
   "outputs": [
    {
     "data": {
      "text/html": [
       "<div>\n",
       "<style scoped>\n",
       "    .dataframe tbody tr th:only-of-type {\n",
       "        vertical-align: middle;\n",
       "    }\n",
       "\n",
       "    .dataframe tbody tr th {\n",
       "        vertical-align: top;\n",
       "    }\n",
       "\n",
       "    .dataframe thead th {\n",
       "        text-align: right;\n",
       "    }\n",
       "</style>\n",
       "<table border=\"1\" class=\"dataframe\">\n",
       "  <thead>\n",
       "    <tr style=\"text-align: right;\">\n",
       "      <th></th>\n",
       "      <th>Happiness Rank</th>\n",
       "      <th>Happiness Score</th>\n",
       "      <th>Lower Confidence Interval</th>\n",
       "      <th>Upper Confidence Interval</th>\n",
       "      <th>Economy (GDP per Capita)</th>\n",
       "      <th>Family</th>\n",
       "      <th>Health (Life Expectancy)</th>\n",
       "      <th>Freedom</th>\n",
       "      <th>Trust (Government Corruption)</th>\n",
       "      <th>Generosity</th>\n",
       "      <th>Dystopia Residual</th>\n",
       "    </tr>\n",
       "  </thead>\n",
       "  <tbody>\n",
       "    <tr>\n",
       "      <th>Happiness Rank</th>\n",
       "      <td>1.000000</td>\n",
       "      <td>-0.995743</td>\n",
       "      <td>-0.994928</td>\n",
       "      <td>-0.995525</td>\n",
       "      <td>-0.793577</td>\n",
       "      <td>-0.733276</td>\n",
       "      <td>-0.767991</td>\n",
       "      <td>-0.557169</td>\n",
       "      <td>-0.387102</td>\n",
       "      <td>-0.145369</td>\n",
       "      <td>-0.542616</td>\n",
       "    </tr>\n",
       "    <tr>\n",
       "      <th>Happiness Score</th>\n",
       "      <td>-0.995743</td>\n",
       "      <td>1.000000</td>\n",
       "      <td>0.999485</td>\n",
       "      <td>0.999474</td>\n",
       "      <td>0.790322</td>\n",
       "      <td>0.739252</td>\n",
       "      <td>0.765384</td>\n",
       "      <td>0.566827</td>\n",
       "      <td>0.402032</td>\n",
       "      <td>0.156848</td>\n",
       "      <td>0.543738</td>\n",
       "    </tr>\n",
       "    <tr>\n",
       "      <th>Lower Confidence Interval</th>\n",
       "      <td>-0.994928</td>\n",
       "      <td>0.999485</td>\n",
       "      <td>1.000000</td>\n",
       "      <td>0.997919</td>\n",
       "      <td>0.790673</td>\n",
       "      <td>0.741523</td>\n",
       "      <td>0.769177</td>\n",
       "      <td>0.566857</td>\n",
       "      <td>0.404840</td>\n",
       "      <td>0.158025</td>\n",
       "      <td>0.538793</td>\n",
       "    </tr>\n",
       "    <tr>\n",
       "      <th>Upper Confidence Interval</th>\n",
       "      <td>-0.995525</td>\n",
       "      <td>0.999474</td>\n",
       "      <td>0.997919</td>\n",
       "      <td>1.000000</td>\n",
       "      <td>0.789140</td>\n",
       "      <td>0.736184</td>\n",
       "      <td>0.760752</td>\n",
       "      <td>0.566203</td>\n",
       "      <td>0.398775</td>\n",
       "      <td>0.155495</td>\n",
       "      <td>0.548164</td>\n",
       "    </tr>\n",
       "    <tr>\n",
       "      <th>Economy (GDP per Capita)</th>\n",
       "      <td>-0.793577</td>\n",
       "      <td>0.790322</td>\n",
       "      <td>0.790673</td>\n",
       "      <td>0.789140</td>\n",
       "      <td>1.000000</td>\n",
       "      <td>0.669540</td>\n",
       "      <td>0.837067</td>\n",
       "      <td>0.362283</td>\n",
       "      <td>0.294185</td>\n",
       "      <td>-0.025531</td>\n",
       "      <td>0.068624</td>\n",
       "    </tr>\n",
       "    <tr>\n",
       "      <th>Family</th>\n",
       "      <td>-0.733276</td>\n",
       "      <td>0.739252</td>\n",
       "      <td>0.741523</td>\n",
       "      <td>0.736184</td>\n",
       "      <td>0.669540</td>\n",
       "      <td>1.000000</td>\n",
       "      <td>0.588377</td>\n",
       "      <td>0.450208</td>\n",
       "      <td>0.213561</td>\n",
       "      <td>0.089629</td>\n",
       "      <td>0.119672</td>\n",
       "    </tr>\n",
       "    <tr>\n",
       "      <th>Health (Life Expectancy)</th>\n",
       "      <td>-0.767991</td>\n",
       "      <td>0.765384</td>\n",
       "      <td>0.769177</td>\n",
       "      <td>0.760752</td>\n",
       "      <td>0.837067</td>\n",
       "      <td>0.588377</td>\n",
       "      <td>1.000000</td>\n",
       "      <td>0.341199</td>\n",
       "      <td>0.249583</td>\n",
       "      <td>0.075987</td>\n",
       "      <td>0.100857</td>\n",
       "    </tr>\n",
       "    <tr>\n",
       "      <th>Freedom</th>\n",
       "      <td>-0.557169</td>\n",
       "      <td>0.566827</td>\n",
       "      <td>0.566857</td>\n",
       "      <td>0.566203</td>\n",
       "      <td>0.362283</td>\n",
       "      <td>0.450208</td>\n",
       "      <td>0.341199</td>\n",
       "      <td>1.000000</td>\n",
       "      <td>0.502054</td>\n",
       "      <td>0.361751</td>\n",
       "      <td>0.091631</td>\n",
       "    </tr>\n",
       "    <tr>\n",
       "      <th>Trust (Government Corruption)</th>\n",
       "      <td>-0.387102</td>\n",
       "      <td>0.402032</td>\n",
       "      <td>0.404840</td>\n",
       "      <td>0.398775</td>\n",
       "      <td>0.294185</td>\n",
       "      <td>0.213561</td>\n",
       "      <td>0.249583</td>\n",
       "      <td>0.502054</td>\n",
       "      <td>1.000000</td>\n",
       "      <td>0.305930</td>\n",
       "      <td>-0.002909</td>\n",
       "    </tr>\n",
       "    <tr>\n",
       "      <th>Generosity</th>\n",
       "      <td>-0.145369</td>\n",
       "      <td>0.156848</td>\n",
       "      <td>0.158025</td>\n",
       "      <td>0.155495</td>\n",
       "      <td>-0.025531</td>\n",
       "      <td>0.089629</td>\n",
       "      <td>0.075987</td>\n",
       "      <td>0.361751</td>\n",
       "      <td>0.305930</td>\n",
       "      <td>1.000000</td>\n",
       "      <td>-0.133001</td>\n",
       "    </tr>\n",
       "    <tr>\n",
       "      <th>Dystopia Residual</th>\n",
       "      <td>-0.542616</td>\n",
       "      <td>0.543738</td>\n",
       "      <td>0.538793</td>\n",
       "      <td>0.548164</td>\n",
       "      <td>0.068624</td>\n",
       "      <td>0.119672</td>\n",
       "      <td>0.100857</td>\n",
       "      <td>0.091631</td>\n",
       "      <td>-0.002909</td>\n",
       "      <td>-0.133001</td>\n",
       "      <td>1.000000</td>\n",
       "    </tr>\n",
       "  </tbody>\n",
       "</table>\n",
       "</div>"
      ],
      "text/plain": [
       "                               Happiness Rank  Happiness Score  \\\n",
       "Happiness Rank                       1.000000        -0.995743   \n",
       "Happiness Score                     -0.995743         1.000000   \n",
       "Lower Confidence Interval           -0.994928         0.999485   \n",
       "Upper Confidence Interval           -0.995525         0.999474   \n",
       "Economy (GDP per Capita)            -0.793577         0.790322   \n",
       "Family                              -0.733276         0.739252   \n",
       "Health (Life Expectancy)            -0.767991         0.765384   \n",
       "Freedom                             -0.557169         0.566827   \n",
       "Trust (Government Corruption)       -0.387102         0.402032   \n",
       "Generosity                          -0.145369         0.156848   \n",
       "Dystopia Residual                   -0.542616         0.543738   \n",
       "\n",
       "                               Lower Confidence Interval  \\\n",
       "Happiness Rank                                 -0.994928   \n",
       "Happiness Score                                 0.999485   \n",
       "Lower Confidence Interval                       1.000000   \n",
       "Upper Confidence Interval                       0.997919   \n",
       "Economy (GDP per Capita)                        0.790673   \n",
       "Family                                          0.741523   \n",
       "Health (Life Expectancy)                        0.769177   \n",
       "Freedom                                         0.566857   \n",
       "Trust (Government Corruption)                   0.404840   \n",
       "Generosity                                      0.158025   \n",
       "Dystopia Residual                               0.538793   \n",
       "\n",
       "                               Upper Confidence Interval  \\\n",
       "Happiness Rank                                 -0.995525   \n",
       "Happiness Score                                 0.999474   \n",
       "Lower Confidence Interval                       0.997919   \n",
       "Upper Confidence Interval                       1.000000   \n",
       "Economy (GDP per Capita)                        0.789140   \n",
       "Family                                          0.736184   \n",
       "Health (Life Expectancy)                        0.760752   \n",
       "Freedom                                         0.566203   \n",
       "Trust (Government Corruption)                   0.398775   \n",
       "Generosity                                      0.155495   \n",
       "Dystopia Residual                               0.548164   \n",
       "\n",
       "                               Economy (GDP per Capita)    Family  \\\n",
       "Happiness Rank                                -0.793577 -0.733276   \n",
       "Happiness Score                                0.790322  0.739252   \n",
       "Lower Confidence Interval                      0.790673  0.741523   \n",
       "Upper Confidence Interval                      0.789140  0.736184   \n",
       "Economy (GDP per Capita)                       1.000000  0.669540   \n",
       "Family                                         0.669540  1.000000   \n",
       "Health (Life Expectancy)                       0.837067  0.588377   \n",
       "Freedom                                        0.362283  0.450208   \n",
       "Trust (Government Corruption)                  0.294185  0.213561   \n",
       "Generosity                                    -0.025531  0.089629   \n",
       "Dystopia Residual                              0.068624  0.119672   \n",
       "\n",
       "                               Health (Life Expectancy)   Freedom  \\\n",
       "Happiness Rank                                -0.767991 -0.557169   \n",
       "Happiness Score                                0.765384  0.566827   \n",
       "Lower Confidence Interval                      0.769177  0.566857   \n",
       "Upper Confidence Interval                      0.760752  0.566203   \n",
       "Economy (GDP per Capita)                       0.837067  0.362283   \n",
       "Family                                         0.588377  0.450208   \n",
       "Health (Life Expectancy)                       1.000000  0.341199   \n",
       "Freedom                                        0.341199  1.000000   \n",
       "Trust (Government Corruption)                  0.249583  0.502054   \n",
       "Generosity                                     0.075987  0.361751   \n",
       "Dystopia Residual                              0.100857  0.091631   \n",
       "\n",
       "                               Trust (Government Corruption)  Generosity  \\\n",
       "Happiness Rank                                     -0.387102   -0.145369   \n",
       "Happiness Score                                     0.402032    0.156848   \n",
       "Lower Confidence Interval                           0.404840    0.158025   \n",
       "Upper Confidence Interval                           0.398775    0.155495   \n",
       "Economy (GDP per Capita)                            0.294185   -0.025531   \n",
       "Family                                              0.213561    0.089629   \n",
       "Health (Life Expectancy)                            0.249583    0.075987   \n",
       "Freedom                                             0.502054    0.361751   \n",
       "Trust (Government Corruption)                       1.000000    0.305930   \n",
       "Generosity                                          0.305930    1.000000   \n",
       "Dystopia Residual                                  -0.002909   -0.133001   \n",
       "\n",
       "                               Dystopia Residual  \n",
       "Happiness Rank                         -0.542616  \n",
       "Happiness Score                         0.543738  \n",
       "Lower Confidence Interval               0.538793  \n",
       "Upper Confidence Interval               0.548164  \n",
       "Economy (GDP per Capita)                0.068624  \n",
       "Family                                  0.119672  \n",
       "Health (Life Expectancy)                0.100857  \n",
       "Freedom                                 0.091631  \n",
       "Trust (Government Corruption)          -0.002909  \n",
       "Generosity                             -0.133001  \n",
       "Dystopia Residual                       1.000000  "
      ]
     },
     "execution_count": 60,
     "metadata": {},
     "output_type": "execute_result"
    }
   ],
   "source": [
    "whr.corr(method=\"pearson\", min_periods=20)"
   ]
  },
  {
   "cell_type": "code",
   "execution_count": 61,
   "metadata": {},
   "outputs": [
    {
     "data": {
      "text/plain": [
       "<matplotlib.axes._subplots.AxesSubplot at 0x56e3ea8198>"
      ]
     },
     "execution_count": 61,
     "metadata": {},
     "output_type": "execute_result"
    },
    {
     "data": {
      "image/png": "[encoded data removed]",
      "text/plain": [
       "<Figure size 720x720 with 2 Axes>"
      ]
     },
     "metadata": {
      "needs_background": "light"
     },
     "output_type": "display_data"
    }
   ],
   "source": [
    "corr = whr.corr(method = \"pearson\")\n",
    "\n",
    "f, ax = plt.subplots(figsize=(10, 10))\n",
    "\n",
    "sns.heatmap(corr, mask=np.zeros_like(corr, dtype=np.bool), \n",
    "            cmap=sns.diverging_palette(220, 10, as_cmap=True), square=True, ax=ax)"
   ]
  },
  {
   "cell_type": "markdown",
   "metadata": {},
   "source": [
    "### F. Probabilities\n",
    "\n",
    "* Compute the probability that randomly selected country with Happiness score over 6.0 is from Western Europe. You will have to use pandas to count the appropriate quantities."
   ]
  },
  {
   "cell_type": "code",
   "execution_count": 62,
   "metadata": {},
   "outputs": [
    {
     "data": {
      "text/plain": [
       "47"
      ]
     },
     "execution_count": 62,
     "metadata": {},
     "output_type": "execute_result"
    }
   ],
   "source": [
    "whr[whr['Happiness Score'] > 6].shape[0]"
   ]
  },
  {
   "cell_type": "code",
   "execution_count": 63,
   "metadata": {},
   "outputs": [
    {
     "data": {
      "text/plain": [
       "16"
      ]
     },
     "execution_count": 63,
     "metadata": {},
     "output_type": "execute_result"
    }
   ],
   "source": [
    "whr[(whr['Happiness Score'] > 6) & (whr['Region'] == 'Western Europe')].shape[0]"
   ]
  },
  {
   "cell_type": "code",
   "execution_count": 64,
   "metadata": {},
   "outputs": [
    {
     "data": {
      "text/plain": [
       "0.3404255319148936"
      ]
     },
     "execution_count": 64,
     "metadata": {},
     "output_type": "execute_result"
    }
   ],
   "source": [
    "float(len(whr[(whr['Happiness Score'] > 6) & (whr['Region'] == 'Western Europe')]))/float(len(whr[whr['Happiness Score'] > 6]))"
   ]
  },
  {
   "cell_type": "code",
   "execution_count": 65,
   "metadata": {},
   "outputs": [
    {
     "name": "stdout",
     "output_type": "stream",
     "text": [
      "The probability that a randomly selected country with happiness score over 6.0 is form Western Europe is 34%\n"
     ]
    }
   ],
   "source": [
    "print(\"The probability that a randomly selected country with happiness score over 6.0 is form Western Europe is {0:.0%}\".format(float(whr[(whr['Happiness Score'] > 6) & (whr['Region'] == 'Western Europe')].shape[0]\n",
    "\n",
    ")/float(whr[whr['Happiness Score'] > 6].shape[0])))"
   ]
  },
  {
   "cell_type": "markdown",
   "metadata": {},
   "source": [
    "### G. Matrices\n",
    "\n",
    "* Define a matrix whose rows correspond to countries and the columns to the regions. Fill in the matrix with 0/1 values where entry (i,j) is a 1 if the country in row i is in the region in column j and a 0 otherwise."
   ]
  },
  {
   "cell_type": "code",
   "execution_count": 66,
   "metadata": {},
   "outputs": [
    {
     "data": {
      "text/plain": [
       "(157, 12)"
      ]
     },
     "execution_count": 66,
     "metadata": {},
     "output_type": "execute_result"
    }
   ],
   "source": [
    "whr.shape"
   ]
  },
  {
   "cell_type": "code",
   "execution_count": 69,
   "metadata": {},
   "outputs": [],
   "source": [
    "Sub_Saharan_Africa = []\n",
    "Southern_Asia = []\n",
    "Western_Europe = []\n",
    "Middle_East_and_Northern_Africa = []\n",
    "North_America = []\n",
    "Central_and_Eastern_Europe = []\n",
    "Australia_and_New_Zealand = []\n",
    "Latin_America_and_Caribbean = []\n",
    "Eastern_Asia = []\n",
    "Southeastern_Asia = []"
   ]
  },
  {
   "cell_type": "code",
   "execution_count": 71,
   "metadata": {},
   "outputs": [],
   "source": [
    "for x in whr['Region']:\n",
    "    if x == 'Western Europe':\n",
    "         Western_Europe.append(1)\n",
    "    else: \n",
    "        Western_Europe.append(0)"
   ]
  },
  {
   "cell_type": "code",
   "execution_count": 72,
   "metadata": {},
   "outputs": [],
   "source": [
    "for x in whr['Region']:\n",
    "    if x == 'Southern_Asia':\n",
    "         Southern_Asia.append(1)\n",
    "    else: \n",
    "        Southern_Asia.append(0)"
   ]
  },
  {
   "cell_type": "code",
   "execution_count": 95,
   "metadata": {},
   "outputs": [],
   "source": [
    "for x in whr['Region']:\n",
    "    if x == 'Sub_Saharan_Africa':\n",
    "         Sub_Saharan_Africa.append(1)\n",
    "    else: \n",
    "        Sub_Saharan_Africa.append(0)"
   ]
  },
  {
   "cell_type": "code",
   "execution_count": 75,
   "metadata": {},
   "outputs": [],
   "source": [
    "for x in whr['Region']:\n",
    "    if x == 'Middle_East_and_Northern_Africa':\n",
    "         Middle_East_and_Northern_Africa.append(1)\n",
    "    else: \n",
    "        Middle_East_and_Northern_Africa.append(0)"
   ]
  },
  {
   "cell_type": "code",
   "execution_count": 76,
   "metadata": {},
   "outputs": [],
   "source": [
    "for x in whr['Region']:\n",
    "    if x == 'North_America':\n",
    "         North_America.append(1)\n",
    "    else: \n",
    "        North_America.append(0)"
   ]
  },
  {
   "cell_type": "code",
   "execution_count": 77,
   "metadata": {},
   "outputs": [],
   "source": [
    "for x in whr['Region']:\n",
    "    if x == 'Central_and_Eastern_Europe':\n",
    "         Central_and_Eastern_Europe.append(1)\n",
    "    else: \n",
    "        Central_and_Eastern_Europe.append(0)"
   ]
  },
  {
   "cell_type": "code",
   "execution_count": 78,
   "metadata": {},
   "outputs": [],
   "source": [
    "for x in whr['Region']:\n",
    "    if x == 'Australia_and_New_Zealand':\n",
    "         Australia_and_New_Zealand.append(1)\n",
    "    else: \n",
    "        Australia_and_New_Zealand.append(0)"
   ]
  },
  {
   "cell_type": "code",
   "execution_count": 79,
   "metadata": {},
   "outputs": [],
   "source": [
    "for x in whr['Region']:\n",
    "    if x == 'Latin_America_and_Caribbean':\n",
    "         Latin_America_and_Caribbean.append(1)\n",
    "    else: \n",
    "        Latin_America_and_Caribbean.append(0)"
   ]
  },
  {
   "cell_type": "code",
   "execution_count": 80,
   "metadata": {},
   "outputs": [],
   "source": [
    "for x in whr['Region']:\n",
    "    if x == 'Eastern_Asia':\n",
    "         Eastern_Asia.append(1)\n",
    "    else: \n",
    "        Eastern_Asia.append(0)"
   ]
  },
  {
   "cell_type": "code",
   "execution_count": 81,
   "metadata": {},
   "outputs": [],
   "source": [
    "for x in whr['Region']:\n",
    "    if x == 'Southeastern_Asia':\n",
    "         Southeastern_Asia.append(1)\n",
    "    else: \n",
    "        Southeastern_Asia.append(0)"
   ]
  },
  {
   "cell_type": "code",
   "execution_count": 94,
   "metadata": {},
   "outputs": [],
   "source": [
    "Matrix = pd.DataFrame(index=whr.index)"
   ]
  }
 ],
 "metadata": {
  "kernelspec": {
   "display_name": "Python 3",
   "language": "python",
   "name": "python3"
  },
  "language_info": {
   "codemirror_mode": {
    "name": "ipython",
    "version": 3
   },
   "file_extension": ".py",
   "mimetype": "text/x-python",
   "name": "python",
   "nbconvert_exporter": "python",
   "pygments_lexer": "ipython3",
   "version": "3.7.1"
  }
 },
 "nbformat": 4,
 "nbformat_minor": 2
}
